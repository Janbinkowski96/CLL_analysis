{
 "cells": [
  {
   "cell_type": "code",
   "execution_count": 66,
   "metadata": {
    "ExecuteTime": {
     "end_time": "2020-09-21T23:59:52.516582Z",
     "start_time": "2020-09-21T23:59:52.506427Z"
    },
    "_cell_guid": "b1076dfc-b9ad-4769-8c92-a6c4dae69d19",
    "_uuid": "8f2839f25d086af736a60e9eeb907d3b93b6e0e5"
   },
   "outputs": [],
   "source": [
    "import pandas as pd\n",
    "import numpy as np\n",
    "import plotly.express as px\n",
    "import seaborn as sns\n",
    "\n",
    "from sklearn.cluster import KMeans, AgglomerativeClustering, AffinityPropagation\n",
    "from sklearn.manifold import TSNE\n",
    "from sklearn.preprocessing import StandardScaler\n",
    "from sklearn import metrics"
   ]
  },
  {
   "cell_type": "code",
   "execution_count": 67,
   "metadata": {
    "ExecuteTime": {
     "end_time": "2020-09-22T00:00:31.110415Z",
     "start_time": "2020-09-22T00:00:19.622189Z"
    },
    "_cell_guid": "79c7e3d0-c299-4dcb-8224-4455121ee9b0",
    "_uuid": "d629ff2d2480ee46fbb7e2d37f6b5fab8052498a"
   },
   "outputs": [],
   "source": [
    "data = pd.read_csv(\"Data/processed/Prepared_ighv_data.csv\", index_col=0)"
   ]
  },
  {
   "cell_type": "code",
   "execution_count": 68,
   "metadata": {
    "ExecuteTime": {
     "end_time": "2020-09-22T00:00:43.342608Z",
     "start_time": "2020-09-22T00:00:43.288837Z"
    }
   },
   "outputs": [
    {
     "data": {
      "text/html": [
       "<div>\n",
       "<style scoped>\n",
       "    .dataframe tbody tr th:only-of-type {\n",
       "        vertical-align: middle;\n",
       "    }\n",
       "\n",
       "    .dataframe tbody tr th {\n",
       "        vertical-align: top;\n",
       "    }\n",
       "\n",
       "    .dataframe thead th {\n",
       "        text-align: right;\n",
       "    }\n",
       "</style>\n",
       "<table border=\"1\" class=\"dataframe\">\n",
       "  <thead>\n",
       "    <tr style=\"text-align: right;\">\n",
       "      <th></th>\n",
       "      <th>Phenotypes segregation</th>\n",
       "      <th>cg00000029</th>\n",
       "      <th>cg00000363</th>\n",
       "      <th>cg00001249</th>\n",
       "      <th>cg00001269</th>\n",
       "      <th>cg00001583</th>\n",
       "      <th>cg00001747</th>\n",
       "      <th>cg00001854</th>\n",
       "      <th>cg00001874</th>\n",
       "      <th>cg00002190</th>\n",
       "      <th>...</th>\n",
       "      <th>cg27661104</th>\n",
       "      <th>cg27662481</th>\n",
       "      <th>cg27662505</th>\n",
       "      <th>cg27663031</th>\n",
       "      <th>cg27663071</th>\n",
       "      <th>cg27663249</th>\n",
       "      <th>cg27664085</th>\n",
       "      <th>cg27664407</th>\n",
       "      <th>cg27664689</th>\n",
       "      <th>cg27664844</th>\n",
       "    </tr>\n",
       "  </thead>\n",
       "  <tbody>\n",
       "    <tr>\n",
       "      <th>GSM4056740</th>\n",
       "      <td>0.0</td>\n",
       "      <td>0.057635</td>\n",
       "      <td>0.354353</td>\n",
       "      <td>0.433972</td>\n",
       "      <td>0.688887</td>\n",
       "      <td>0.517182</td>\n",
       "      <td>0.225309</td>\n",
       "      <td>0.095196</td>\n",
       "      <td>0.106635</td>\n",
       "      <td>0.383397</td>\n",
       "      <td>...</td>\n",
       "      <td>0.537107</td>\n",
       "      <td>0.127098</td>\n",
       "      <td>0.215972</td>\n",
       "      <td>0.479048</td>\n",
       "      <td>0.088706</td>\n",
       "      <td>0.465241</td>\n",
       "      <td>0.339083</td>\n",
       "      <td>0.051594</td>\n",
       "      <td>0.445298</td>\n",
       "      <td>0.099585</td>\n",
       "    </tr>\n",
       "    <tr>\n",
       "      <th>GSM4056718</th>\n",
       "      <td>0.0</td>\n",
       "      <td>0.953871</td>\n",
       "      <td>0.091226</td>\n",
       "      <td>0.452134</td>\n",
       "      <td>0.022800</td>\n",
       "      <td>0.228642</td>\n",
       "      <td>0.039757</td>\n",
       "      <td>0.063718</td>\n",
       "      <td>0.067420</td>\n",
       "      <td>0.092946</td>\n",
       "      <td>...</td>\n",
       "      <td>0.026241</td>\n",
       "      <td>0.153379</td>\n",
       "      <td>0.013760</td>\n",
       "      <td>0.056495</td>\n",
       "      <td>0.602235</td>\n",
       "      <td>0.478752</td>\n",
       "      <td>0.062978</td>\n",
       "      <td>0.505023</td>\n",
       "      <td>0.551180</td>\n",
       "      <td>0.111583</td>\n",
       "    </tr>\n",
       "    <tr>\n",
       "      <th>GSM4056710</th>\n",
       "      <td>0.0</td>\n",
       "      <td>0.449693</td>\n",
       "      <td>0.534821</td>\n",
       "      <td>0.955026</td>\n",
       "      <td>0.030618</td>\n",
       "      <td>0.433832</td>\n",
       "      <td>0.445046</td>\n",
       "      <td>0.067303</td>\n",
       "      <td>0.050488</td>\n",
       "      <td>0.418031</td>\n",
       "      <td>...</td>\n",
       "      <td>0.112542</td>\n",
       "      <td>0.857789</td>\n",
       "      <td>0.022296</td>\n",
       "      <td>0.543724</td>\n",
       "      <td>0.068229</td>\n",
       "      <td>0.958582</td>\n",
       "      <td>0.952190</td>\n",
       "      <td>0.473541</td>\n",
       "      <td>0.965129</td>\n",
       "      <td>0.249649</td>\n",
       "    </tr>\n",
       "    <tr>\n",
       "      <th>GSM4056713</th>\n",
       "      <td>0.0</td>\n",
       "      <td>0.885077</td>\n",
       "      <td>0.383795</td>\n",
       "      <td>0.422111</td>\n",
       "      <td>0.085304</td>\n",
       "      <td>0.126704</td>\n",
       "      <td>0.767489</td>\n",
       "      <td>0.275319</td>\n",
       "      <td>0.517630</td>\n",
       "      <td>0.538155</td>\n",
       "      <td>...</td>\n",
       "      <td>0.882050</td>\n",
       "      <td>0.561696</td>\n",
       "      <td>0.018676</td>\n",
       "      <td>0.532568</td>\n",
       "      <td>0.475753</td>\n",
       "      <td>0.670928</td>\n",
       "      <td>0.215293</td>\n",
       "      <td>0.474573</td>\n",
       "      <td>0.046021</td>\n",
       "      <td>0.573963</td>\n",
       "    </tr>\n",
       "    <tr>\n",
       "      <th>GSM4056732</th>\n",
       "      <td>0.0</td>\n",
       "      <td>0.912686</td>\n",
       "      <td>0.514823</td>\n",
       "      <td>0.422171</td>\n",
       "      <td>0.028561</td>\n",
       "      <td>0.130650</td>\n",
       "      <td>0.101693</td>\n",
       "      <td>0.054404</td>\n",
       "      <td>0.526072</td>\n",
       "      <td>0.110791</td>\n",
       "      <td>...</td>\n",
       "      <td>0.141594</td>\n",
       "      <td>0.517030</td>\n",
       "      <td>0.279730</td>\n",
       "      <td>0.545570</td>\n",
       "      <td>0.505435</td>\n",
       "      <td>0.042741</td>\n",
       "      <td>0.499660</td>\n",
       "      <td>0.848134</td>\n",
       "      <td>0.519053</td>\n",
       "      <td>0.399340</td>\n",
       "    </tr>\n",
       "  </tbody>\n",
       "</table>\n",
       "<p>5 rows × 41432 columns</p>\n",
       "</div>"
      ],
      "text/plain": [
       "            Phenotypes segregation  cg00000029  cg00000363  cg00001249  \\\n",
       "GSM4056740                     0.0    0.057635    0.354353    0.433972   \n",
       "GSM4056718                     0.0    0.953871    0.091226    0.452134   \n",
       "GSM4056710                     0.0    0.449693    0.534821    0.955026   \n",
       "GSM4056713                     0.0    0.885077    0.383795    0.422111   \n",
       "GSM4056732                     0.0    0.912686    0.514823    0.422171   \n",
       "\n",
       "            cg00001269  cg00001583  cg00001747  cg00001854  cg00001874  \\\n",
       "GSM4056740    0.688887    0.517182    0.225309    0.095196    0.106635   \n",
       "GSM4056718    0.022800    0.228642    0.039757    0.063718    0.067420   \n",
       "GSM4056710    0.030618    0.433832    0.445046    0.067303    0.050488   \n",
       "GSM4056713    0.085304    0.126704    0.767489    0.275319    0.517630   \n",
       "GSM4056732    0.028561    0.130650    0.101693    0.054404    0.526072   \n",
       "\n",
       "            cg00002190  ...  cg27661104  cg27662481  cg27662505  cg27663031  \\\n",
       "GSM4056740    0.383397  ...    0.537107    0.127098    0.215972    0.479048   \n",
       "GSM4056718    0.092946  ...    0.026241    0.153379    0.013760    0.056495   \n",
       "GSM4056710    0.418031  ...    0.112542    0.857789    0.022296    0.543724   \n",
       "GSM4056713    0.538155  ...    0.882050    0.561696    0.018676    0.532568   \n",
       "GSM4056732    0.110791  ...    0.141594    0.517030    0.279730    0.545570   \n",
       "\n",
       "            cg27663071  cg27663249  cg27664085  cg27664407  cg27664689  \\\n",
       "GSM4056740    0.088706    0.465241    0.339083    0.051594    0.445298   \n",
       "GSM4056718    0.602235    0.478752    0.062978    0.505023    0.551180   \n",
       "GSM4056710    0.068229    0.958582    0.952190    0.473541    0.965129   \n",
       "GSM4056713    0.475753    0.670928    0.215293    0.474573    0.046021   \n",
       "GSM4056732    0.505435    0.042741    0.499660    0.848134    0.519053   \n",
       "\n",
       "            cg27664844  \n",
       "GSM4056740    0.099585  \n",
       "GSM4056718    0.111583  \n",
       "GSM4056710    0.249649  \n",
       "GSM4056713    0.573963  \n",
       "GSM4056732    0.399340  \n",
       "\n",
       "[5 rows x 41432 columns]"
      ]
     },
     "execution_count": 68,
     "metadata": {},
     "output_type": "execute_result"
    }
   ],
   "source": [
    "data.head()"
   ]
  },
  {
   "cell_type": "code",
   "execution_count": 69,
   "metadata": {
    "ExecuteTime": {
     "end_time": "2020-09-22T00:01:34.319749Z",
     "start_time": "2020-09-22T00:01:34.115776Z"
    }
   },
   "outputs": [],
   "source": [
    "data_values = data.drop(\"Phenotypes segregation\", axis=1)"
   ]
  },
  {
   "cell_type": "code",
   "execution_count": 70,
   "metadata": {
    "ExecuteTime": {
     "end_time": "2020-09-22T00:01:43.430487Z",
     "start_time": "2020-09-22T00:01:42.321399Z"
    }
   },
   "outputs": [],
   "source": [
    "# Projection 2d\n",
    "tsne = TSNE(n_components=2, random_state=101, method=\"exact\")\n",
    "\n",
    "scaled_data_values = StandardScaler().fit_transform(data_values)\n",
    "data_values_projection_2d = tsne.fit_transform(scaled_data_values)"
   ]
  },
  {
   "cell_type": "code",
   "execution_count": 74,
   "metadata": {
    "ExecuteTime": {
     "end_time": "2020-09-22T00:02:11.796755Z",
     "start_time": "2020-09-22T00:02:08.010657Z"
    }
   },
   "outputs": [],
   "source": [
    "res = {}\n",
    "\n",
    "for _k in range(2, 6):\n",
    "    km = KMeans(n_clusters=_k)\n",
    "    km.fit(scaled_data_values)\n",
    "    labels = km.labels_\n",
    "    \n",
    "    sc_score = metrics.silhouette_score(scaled_data_values, labels, random_state=101)\n",
    "    inertia = km.inertia_\n",
    "    \n",
    "    res.update({f\"Clusters {_k}\": {\"Silhouette score\": sc_score, \"Inertia\": interia}})"
   ]
  },
  {
   "cell_type": "code",
   "execution_count": 75,
   "metadata": {
    "ExecuteTime": {
     "end_time": "2020-09-22T00:02:14.077043Z",
     "start_time": "2020-09-22T00:02:14.057179Z"
    }
   },
   "outputs": [
    {
     "data": {
      "text/html": [
       "<div>\n",
       "<style scoped>\n",
       "    .dataframe tbody tr th:only-of-type {\n",
       "        vertical-align: middle;\n",
       "    }\n",
       "\n",
       "    .dataframe tbody tr th {\n",
       "        vertical-align: top;\n",
       "    }\n",
       "\n",
       "    .dataframe thead th {\n",
       "        text-align: right;\n",
       "    }\n",
       "</style>\n",
       "<table border=\"1\" class=\"dataframe\">\n",
       "  <thead>\n",
       "    <tr style=\"text-align: right;\">\n",
       "      <th></th>\n",
       "      <th>Clusters 2</th>\n",
       "      <th>Clusters 3</th>\n",
       "      <th>Clusters 4</th>\n",
       "      <th>Clusters 5</th>\n",
       "    </tr>\n",
       "  </thead>\n",
       "  <tbody>\n",
       "    <tr>\n",
       "      <th>Silhouette score</th>\n",
       "      <td>7.012416e-02</td>\n",
       "      <td>3.948782e-02</td>\n",
       "      <td>2.248581e-02</td>\n",
       "      <td>1.304238e-02</td>\n",
       "    </tr>\n",
       "    <tr>\n",
       "      <th>Inertia</th>\n",
       "      <td>1.693981e+07</td>\n",
       "      <td>1.693981e+07</td>\n",
       "      <td>1.693981e+07</td>\n",
       "      <td>1.693981e+07</td>\n",
       "    </tr>\n",
       "  </tbody>\n",
       "</table>\n",
       "</div>"
      ],
      "text/plain": [
       "                    Clusters 2    Clusters 3    Clusters 4    Clusters 5\n",
       "Silhouette score  7.012416e-02  3.948782e-02  2.248581e-02  1.304238e-02\n",
       "Inertia           1.693981e+07  1.693981e+07  1.693981e+07  1.693981e+07"
      ]
     },
     "execution_count": 75,
     "metadata": {},
     "output_type": "execute_result"
    }
   ],
   "source": [
    "c_metrics = pd.DataFrame.from_dict(res)\n",
    "c_metrics"
   ]
  },
  {
   "cell_type": "code",
   "execution_count": 76,
   "metadata": {
    "ExecuteTime": {
     "end_time": "2020-09-22T00:02:16.502525Z",
     "start_time": "2020-09-22T00:02:16.321183Z"
    }
   },
   "outputs": [
    {
     "data": {
      "text/plain": [
       "<matplotlib.axes._subplots.AxesSubplot at 0x7f444a903e10>"
      ]
     },
     "execution_count": 76,
     "metadata": {},
     "output_type": "execute_result"
    },
    {
     "data": {
      "image/png": "[encoded data removed]",
      "text/plain": [
       "<Figure size 432x288 with 1 Axes>"
      ]
     },
     "metadata": {
      "needs_background": "light"
     },
     "output_type": "display_data"
    }
   ],
   "source": [
    "c_metrics.loc[\"Silhouette score\", :].plot()"
   ]
  },
  {
   "cell_type": "code",
   "execution_count": 77,
   "metadata": {
    "ExecuteTime": {
     "end_time": "2020-09-22T00:02:21.263196Z",
     "start_time": "2020-09-22T00:02:21.070823Z"
    }
   },
   "outputs": [
    {
     "data": {
      "text/plain": [
       "<matplotlib.axes._subplots.AxesSubplot at 0x7f445103a810>"
      ]
     },
     "execution_count": 77,
     "metadata": {},
     "output_type": "execute_result"
    },
    {
     "data": {
      "image/png": "[encoded data removed]",
      "text/plain": [
       "<Figure size 432x288 with 1 Axes>"
      ]
     },
     "metadata": {
      "needs_background": "light"
     },
     "output_type": "display_data"
    }
   ],
   "source": [
    "c_metrics.loc[\"Inertia\", :].plot()"
   ]
  },
  {
   "cell_type": "code",
   "execution_count": 78,
   "metadata": {
    "ExecuteTime": {
     "end_time": "2020-09-22T00:02:24.387975Z",
     "start_time": "2020-09-22T00:02:23.699169Z"
    }
   },
   "outputs": [],
   "source": [
    "km = KMeans(n_clusters=2)\n",
    "km.fit(scaled_data_values)\n",
    "\n",
    "km_labels = km.labels_.reshape(-1, 1).astype(str)\n",
    "km_data = np.concatenate((data_values_projection_2d, km_labels), axis=1)\n",
    "km_data = pd.DataFrame(km_data, columns=[\"A\", \"B\", \"H\"]).astype(float)"
   ]
  },
  {
   "cell_type": "code",
   "execution_count": 79,
   "metadata": {
    "ExecuteTime": {
     "end_time": "2020-09-22T00:02:26.760655Z",
     "start_time": "2020-09-22T00:02:26.747687Z"
    }
   },
   "outputs": [
    {
     "data": {
      "text/html": [
       "<div>\n",
       "<style scoped>\n",
       "    .dataframe tbody tr th:only-of-type {\n",
       "        vertical-align: middle;\n",
       "    }\n",
       "\n",
       "    .dataframe tbody tr th {\n",
       "        vertical-align: top;\n",
       "    }\n",
       "\n",
       "    .dataframe thead th {\n",
       "        text-align: right;\n",
       "    }\n",
       "</style>\n",
       "<table border=\"1\" class=\"dataframe\">\n",
       "  <thead>\n",
       "    <tr style=\"text-align: right;\">\n",
       "      <th></th>\n",
       "      <th>A</th>\n",
       "      <th>B</th>\n",
       "      <th>H</th>\n",
       "    </tr>\n",
       "  </thead>\n",
       "  <tbody>\n",
       "    <tr>\n",
       "      <th>0</th>\n",
       "      <td>-151.42993</td>\n",
       "      <td>-90.149370</td>\n",
       "      <td>1.0</td>\n",
       "    </tr>\n",
       "    <tr>\n",
       "      <th>1</th>\n",
       "      <td>-158.31717</td>\n",
       "      <td>-58.014150</td>\n",
       "      <td>1.0</td>\n",
       "    </tr>\n",
       "    <tr>\n",
       "      <th>2</th>\n",
       "      <td>162.50482</td>\n",
       "      <td>-37.509106</td>\n",
       "      <td>1.0</td>\n",
       "    </tr>\n",
       "    <tr>\n",
       "      <th>3</th>\n",
       "      <td>-136.51537</td>\n",
       "      <td>-72.938220</td>\n",
       "      <td>1.0</td>\n",
       "    </tr>\n",
       "    <tr>\n",
       "      <th>4</th>\n",
       "      <td>142.92416</td>\n",
       "      <td>26.119421</td>\n",
       "      <td>0.0</td>\n",
       "    </tr>\n",
       "  </tbody>\n",
       "</table>\n",
       "</div>"
      ],
      "text/plain": [
       "           A          B    H\n",
       "0 -151.42993 -90.149370  1.0\n",
       "1 -158.31717 -58.014150  1.0\n",
       "2  162.50482 -37.509106  1.0\n",
       "3 -136.51537 -72.938220  1.0\n",
       "4  142.92416  26.119421  0.0"
      ]
     },
     "execution_count": 79,
     "metadata": {},
     "output_type": "execute_result"
    }
   ],
   "source": [
    "km_data.head()"
   ]
  },
  {
   "cell_type": "code",
   "execution_count": 80,
   "metadata": {
    "ExecuteTime": {
     "end_time": "2020-09-22T00:02:29.301188Z",
     "start_time": "2020-09-22T00:02:29.050316Z"
    }
   },
   "outputs": [
    {
     "data": {
      "text/plain": [
       "<matplotlib.axes._subplots.AxesSubplot at 0x7f444335b250>"
      ]
     },
     "execution_count": 80,
     "metadata": {},
     "output_type": "execute_result"
    },
    {
     "data": {
      "image/png": "[encoded data removed]",
      "text/plain": [
       "<Figure size 432x288 with 1 Axes>"
      ]
     },
     "metadata": {
      "needs_background": "light"
     },
     "output_type": "display_data"
    }
   ],
   "source": [
    "sns.scatterplot(data=km_data, x=\"A\", y=\"B\", hue=\"H\")"
   ]
  },
  {
   "cell_type": "code",
   "execution_count": 81,
   "metadata": {
    "ExecuteTime": {
     "end_time": "2020-09-22T00:02:36.303276Z",
     "start_time": "2020-09-22T00:02:36.298438Z"
    }
   },
   "outputs": [],
   "source": [
    "# Save results from KMeans"
   ]
  },
  {
   "cell_type": "code",
   "execution_count": 82,
   "metadata": {
    "ExecuteTime": {
     "end_time": "2020-09-22T00:03:14.014089Z",
     "start_time": "2020-09-22T00:03:13.967265Z"
    }
   },
   "outputs": [],
   "source": [
    "labels = pd.Series(km_labels.ravel(), index=data_values.index, name=\"Phenotypes segregation\")\n",
    "data_values[\"Phenotypes segregation\"] = labels"
   ]
  },
  {
   "cell_type": "code",
   "execution_count": 83,
   "metadata": {
    "ExecuteTime": {
     "end_time": "2020-09-22T00:03:17.841959Z",
     "start_time": "2020-09-22T00:03:17.813832Z"
    }
   },
   "outputs": [
    {
     "data": {
      "text/html": [
       "<div>\n",
       "<style scoped>\n",
       "    .dataframe tbody tr th:only-of-type {\n",
       "        vertical-align: middle;\n",
       "    }\n",
       "\n",
       "    .dataframe tbody tr th {\n",
       "        vertical-align: top;\n",
       "    }\n",
       "\n",
       "    .dataframe thead th {\n",
       "        text-align: right;\n",
       "    }\n",
       "</style>\n",
       "<table border=\"1\" class=\"dataframe\">\n",
       "  <thead>\n",
       "    <tr style=\"text-align: right;\">\n",
       "      <th></th>\n",
       "      <th>cg00000029</th>\n",
       "      <th>cg00000363</th>\n",
       "      <th>cg00001249</th>\n",
       "      <th>cg00001269</th>\n",
       "      <th>cg00001583</th>\n",
       "      <th>cg00001747</th>\n",
       "      <th>cg00001854</th>\n",
       "      <th>cg00001874</th>\n",
       "      <th>cg00002190</th>\n",
       "      <th>cg00002837</th>\n",
       "      <th>...</th>\n",
       "      <th>cg27662481</th>\n",
       "      <th>cg27662505</th>\n",
       "      <th>cg27663031</th>\n",
       "      <th>cg27663071</th>\n",
       "      <th>cg27663249</th>\n",
       "      <th>cg27664085</th>\n",
       "      <th>cg27664407</th>\n",
       "      <th>cg27664689</th>\n",
       "      <th>cg27664844</th>\n",
       "      <th>Phenotypes segregation</th>\n",
       "    </tr>\n",
       "  </thead>\n",
       "  <tbody>\n",
       "    <tr>\n",
       "      <th>GSM4056740</th>\n",
       "      <td>0.057635</td>\n",
       "      <td>0.354353</td>\n",
       "      <td>0.433972</td>\n",
       "      <td>0.688887</td>\n",
       "      <td>0.517182</td>\n",
       "      <td>0.225309</td>\n",
       "      <td>0.095196</td>\n",
       "      <td>0.106635</td>\n",
       "      <td>0.383397</td>\n",
       "      <td>0.212720</td>\n",
       "      <td>...</td>\n",
       "      <td>0.127098</td>\n",
       "      <td>0.215972</td>\n",
       "      <td>0.479048</td>\n",
       "      <td>0.088706</td>\n",
       "      <td>0.465241</td>\n",
       "      <td>0.339083</td>\n",
       "      <td>0.051594</td>\n",
       "      <td>0.445298</td>\n",
       "      <td>0.099585</td>\n",
       "      <td>1</td>\n",
       "    </tr>\n",
       "    <tr>\n",
       "      <th>GSM4056718</th>\n",
       "      <td>0.953871</td>\n",
       "      <td>0.091226</td>\n",
       "      <td>0.452134</td>\n",
       "      <td>0.022800</td>\n",
       "      <td>0.228642</td>\n",
       "      <td>0.039757</td>\n",
       "      <td>0.063718</td>\n",
       "      <td>0.067420</td>\n",
       "      <td>0.092946</td>\n",
       "      <td>0.878406</td>\n",
       "      <td>...</td>\n",
       "      <td>0.153379</td>\n",
       "      <td>0.013760</td>\n",
       "      <td>0.056495</td>\n",
       "      <td>0.602235</td>\n",
       "      <td>0.478752</td>\n",
       "      <td>0.062978</td>\n",
       "      <td>0.505023</td>\n",
       "      <td>0.551180</td>\n",
       "      <td>0.111583</td>\n",
       "      <td>1</td>\n",
       "    </tr>\n",
       "    <tr>\n",
       "      <th>GSM4056710</th>\n",
       "      <td>0.449693</td>\n",
       "      <td>0.534821</td>\n",
       "      <td>0.955026</td>\n",
       "      <td>0.030618</td>\n",
       "      <td>0.433832</td>\n",
       "      <td>0.445046</td>\n",
       "      <td>0.067303</td>\n",
       "      <td>0.050488</td>\n",
       "      <td>0.418031</td>\n",
       "      <td>0.888696</td>\n",
       "      <td>...</td>\n",
       "      <td>0.857789</td>\n",
       "      <td>0.022296</td>\n",
       "      <td>0.543724</td>\n",
       "      <td>0.068229</td>\n",
       "      <td>0.958582</td>\n",
       "      <td>0.952190</td>\n",
       "      <td>0.473541</td>\n",
       "      <td>0.965129</td>\n",
       "      <td>0.249649</td>\n",
       "      <td>1</td>\n",
       "    </tr>\n",
       "    <tr>\n",
       "      <th>GSM4056713</th>\n",
       "      <td>0.885077</td>\n",
       "      <td>0.383795</td>\n",
       "      <td>0.422111</td>\n",
       "      <td>0.085304</td>\n",
       "      <td>0.126704</td>\n",
       "      <td>0.767489</td>\n",
       "      <td>0.275319</td>\n",
       "      <td>0.517630</td>\n",
       "      <td>0.538155</td>\n",
       "      <td>0.101842</td>\n",
       "      <td>...</td>\n",
       "      <td>0.561696</td>\n",
       "      <td>0.018676</td>\n",
       "      <td>0.532568</td>\n",
       "      <td>0.475753</td>\n",
       "      <td>0.670928</td>\n",
       "      <td>0.215293</td>\n",
       "      <td>0.474573</td>\n",
       "      <td>0.046021</td>\n",
       "      <td>0.573963</td>\n",
       "      <td>1</td>\n",
       "    </tr>\n",
       "    <tr>\n",
       "      <th>GSM4056732</th>\n",
       "      <td>0.912686</td>\n",
       "      <td>0.514823</td>\n",
       "      <td>0.422171</td>\n",
       "      <td>0.028561</td>\n",
       "      <td>0.130650</td>\n",
       "      <td>0.101693</td>\n",
       "      <td>0.054404</td>\n",
       "      <td>0.526072</td>\n",
       "      <td>0.110791</td>\n",
       "      <td>0.143653</td>\n",
       "      <td>...</td>\n",
       "      <td>0.517030</td>\n",
       "      <td>0.279730</td>\n",
       "      <td>0.545570</td>\n",
       "      <td>0.505435</td>\n",
       "      <td>0.042741</td>\n",
       "      <td>0.499660</td>\n",
       "      <td>0.848134</td>\n",
       "      <td>0.519053</td>\n",
       "      <td>0.399340</td>\n",
       "      <td>0</td>\n",
       "    </tr>\n",
       "  </tbody>\n",
       "</table>\n",
       "<p>5 rows × 41432 columns</p>\n",
       "</div>"
      ],
      "text/plain": [
       "            cg00000029  cg00000363  cg00001249  cg00001269  cg00001583  \\\n",
       "GSM4056740    0.057635    0.354353    0.433972    0.688887    0.517182   \n",
       "GSM4056718    0.953871    0.091226    0.452134    0.022800    0.228642   \n",
       "GSM4056710    0.449693    0.534821    0.955026    0.030618    0.433832   \n",
       "GSM4056713    0.885077    0.383795    0.422111    0.085304    0.126704   \n",
       "GSM4056732    0.912686    0.514823    0.422171    0.028561    0.130650   \n",
       "\n",
       "            cg00001747  cg00001854  cg00001874  cg00002190  cg00002837  ...  \\\n",
       "GSM4056740    0.225309    0.095196    0.106635    0.383397    0.212720  ...   \n",
       "GSM4056718    0.039757    0.063718    0.067420    0.092946    0.878406  ...   \n",
       "GSM4056710    0.445046    0.067303    0.050488    0.418031    0.888696  ...   \n",
       "GSM4056713    0.767489    0.275319    0.517630    0.538155    0.101842  ...   \n",
       "GSM4056732    0.101693    0.054404    0.526072    0.110791    0.143653  ...   \n",
       "\n",
       "            cg27662481  cg27662505  cg27663031  cg27663071  cg27663249  \\\n",
       "GSM4056740    0.127098    0.215972    0.479048    0.088706    0.465241   \n",
       "GSM4056718    0.153379    0.013760    0.056495    0.602235    0.478752   \n",
       "GSM4056710    0.857789    0.022296    0.543724    0.068229    0.958582   \n",
       "GSM4056713    0.561696    0.018676    0.532568    0.475753    0.670928   \n",
       "GSM4056732    0.517030    0.279730    0.545570    0.505435    0.042741   \n",
       "\n",
       "            cg27664085  cg27664407  cg27664689  cg27664844  \\\n",
       "GSM4056740    0.339083    0.051594    0.445298    0.099585   \n",
       "GSM4056718    0.062978    0.505023    0.551180    0.111583   \n",
       "GSM4056710    0.952190    0.473541    0.965129    0.249649   \n",
       "GSM4056713    0.215293    0.474573    0.046021    0.573963   \n",
       "GSM4056732    0.499660    0.848134    0.519053    0.399340   \n",
       "\n",
       "            Phenotypes segregation  \n",
       "GSM4056740                       1  \n",
       "GSM4056718                       1  \n",
       "GSM4056710                       1  \n",
       "GSM4056713                       1  \n",
       "GSM4056732                       0  \n",
       "\n",
       "[5 rows x 41432 columns]"
      ]
     },
     "execution_count": 83,
     "metadata": {},
     "output_type": "execute_result"
    }
   ],
   "source": [
    "data_values.head()"
   ]
  },
  {
   "cell_type": "code",
   "execution_count": 84,
   "metadata": {
    "ExecuteTime": {
     "end_time": "2020-09-22T00:03:22.349942Z",
     "start_time": "2020-09-22T00:03:21.662189Z"
    }
   },
   "outputs": [],
   "source": [
    "data_values = data_values.T"
   ]
  },
  {
   "cell_type": "code",
   "execution_count": 85,
   "metadata": {
    "ExecuteTime": {
     "end_time": "2020-09-22T00:03:27.055797Z",
     "start_time": "2020-09-22T00:03:23.985925Z"
    }
   },
   "outputs": [],
   "source": [
    "data_values.to_csv(\"Data/processed/IGHV_3_classes-clustered_KM.csv\")"
   ]
  }
 ],
 "metadata": {
  "kernelspec": {
   "display_name": "Python 3",
   "language": "python",
   "name": "python3"
  },
  "language_info": {
   "codemirror_mode": {
    "name": "ipython",
    "version": 3
   },
   "file_extension": ".py",
   "mimetype": "text/x-python",
   "name": "python",
   "nbconvert_exporter": "python",
   "pygments_lexer": "ipython3",
   "version": "3.7.6"
  },
  "toc": {
   "base_numbering": 1,
   "nav_menu": {},
   "number_sections": true,
   "sideBar": true,
   "skip_h1_title": false,
   "title_cell": "Table of Contents",
   "title_sidebar": "Contents",
   "toc_cell": false,
   "toc_position": {},
   "toc_section_display": true,
   "toc_window_display": false
  },
  "varInspector": {
   "cols": {
    "lenName": 16,
    "lenType": 16,
    "lenVar": 40
   },
   "kernels_config": {
    "python": {
     "delete_cmd_postfix": "",
     "delete_cmd_prefix": "del ",
     "library": "var_list.py",
     "varRefreshCmd": "print(var_dic_list())"
    },
    "r": {
     "delete_cmd_postfix": ") ",
     "delete_cmd_prefix": "rm(",
     "library": "var_list.r",
     "varRefreshCmd": "cat(var_dic_list()) "
    }
   },
   "types_to_exclude": [
    "module",
    "function",
    "builtin_function_or_method",
    "instance",
    "_Feature"
   ],
   "window_display": false
  }
 },
 "nbformat": 4,
 "nbformat_minor": 4
}
