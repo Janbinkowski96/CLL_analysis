{
 "cells": [
  {
   "cell_type": "code",
   "execution_count": 21,
   "metadata": {
    "ExecuteTime": {
     "end_time": "2020-09-22T14:54:21.455762Z",
     "start_time": "2020-09-22T14:54:21.444021Z"
    },
    "_cell_guid": "b1076dfc-b9ad-4769-8c92-a6c4dae69d19",
    "_uuid": "8f2839f25d086af736a60e9eeb907d3b93b6e0e5"
   },
   "outputs": [],
   "source": [
    "import pandas as pd\n",
    "import numpy as np\n",
    "import plotly.express as px\n",
    "import seaborn as sns\n",
    "\n",
    "from sklearn.cluster import KMeans, AgglomerativeClustering, AffinityPropagation\n",
    "from sklearn.manifold import TSNE\n",
    "from sklearn.preprocessing import StandardScaler\n",
    "from sklearn import metrics"
   ]
  },
  {
   "cell_type": "code",
   "execution_count": 22,
   "metadata": {
    "ExecuteTime": {
     "end_time": "2020-09-22T14:54:32.108132Z",
     "start_time": "2020-09-22T14:54:26.107036Z"
    },
    "_cell_guid": "79c7e3d0-c299-4dcb-8224-4455121ee9b0",
    "_uuid": "d629ff2d2480ee46fbb7e2d37f6b5fab8052498a"
   },
   "outputs": [],
   "source": [
    "data = pd.read_csv(\"Data/processed/Prepared_ighv_data.csv\", index_col=0)"
   ]
  },
  {
   "cell_type": "code",
   "execution_count": 23,
   "metadata": {
    "ExecuteTime": {
     "end_time": "2020-09-22T14:54:38.211263Z",
     "start_time": "2020-09-22T14:54:38.176006Z"
    }
   },
   "outputs": [
    {
     "data": {
      "text/html": [
       "<div>\n",
       "<style scoped>\n",
       "    .dataframe tbody tr th:only-of-type {\n",
       "        vertical-align: middle;\n",
       "    }\n",
       "\n",
       "    .dataframe tbody tr th {\n",
       "        vertical-align: top;\n",
       "    }\n",
       "\n",
       "    .dataframe thead th {\n",
       "        text-align: right;\n",
       "    }\n",
       "</style>\n",
       "<table border=\"1\" class=\"dataframe\">\n",
       "  <thead>\n",
       "    <tr style=\"text-align: right;\">\n",
       "      <th></th>\n",
       "      <th>Phenotypes segregation</th>\n",
       "      <th>cg00000029</th>\n",
       "      <th>cg00000363</th>\n",
       "      <th>cg00001249</th>\n",
       "      <th>cg00001269</th>\n",
       "      <th>cg00001583</th>\n",
       "      <th>cg00001747</th>\n",
       "      <th>cg00001854</th>\n",
       "      <th>cg00001874</th>\n",
       "      <th>cg00002190</th>\n",
       "      <th>...</th>\n",
       "      <th>cg27661104</th>\n",
       "      <th>cg27662481</th>\n",
       "      <th>cg27662505</th>\n",
       "      <th>cg27663031</th>\n",
       "      <th>cg27663071</th>\n",
       "      <th>cg27663249</th>\n",
       "      <th>cg27664085</th>\n",
       "      <th>cg27664407</th>\n",
       "      <th>cg27664689</th>\n",
       "      <th>cg27664844</th>\n",
       "    </tr>\n",
       "  </thead>\n",
       "  <tbody>\n",
       "    <tr>\n",
       "      <th>GSM4056740</th>\n",
       "      <td>0.0</td>\n",
       "      <td>0.057635</td>\n",
       "      <td>0.354353</td>\n",
       "      <td>0.433972</td>\n",
       "      <td>0.688887</td>\n",
       "      <td>0.517182</td>\n",
       "      <td>0.225309</td>\n",
       "      <td>0.095196</td>\n",
       "      <td>0.106635</td>\n",
       "      <td>0.383397</td>\n",
       "      <td>...</td>\n",
       "      <td>0.537107</td>\n",
       "      <td>0.127098</td>\n",
       "      <td>0.215972</td>\n",
       "      <td>0.479048</td>\n",
       "      <td>0.088706</td>\n",
       "      <td>0.465241</td>\n",
       "      <td>0.339083</td>\n",
       "      <td>0.051594</td>\n",
       "      <td>0.445298</td>\n",
       "      <td>0.099585</td>\n",
       "    </tr>\n",
       "    <tr>\n",
       "      <th>GSM4056718</th>\n",
       "      <td>0.0</td>\n",
       "      <td>0.953871</td>\n",
       "      <td>0.091226</td>\n",
       "      <td>0.452134</td>\n",
       "      <td>0.022800</td>\n",
       "      <td>0.228642</td>\n",
       "      <td>0.039757</td>\n",
       "      <td>0.063718</td>\n",
       "      <td>0.067420</td>\n",
       "      <td>0.092946</td>\n",
       "      <td>...</td>\n",
       "      <td>0.026241</td>\n",
       "      <td>0.153379</td>\n",
       "      <td>0.013760</td>\n",
       "      <td>0.056495</td>\n",
       "      <td>0.602235</td>\n",
       "      <td>0.478752</td>\n",
       "      <td>0.062978</td>\n",
       "      <td>0.505023</td>\n",
       "      <td>0.551180</td>\n",
       "      <td>0.111583</td>\n",
       "    </tr>\n",
       "    <tr>\n",
       "      <th>GSM4056710</th>\n",
       "      <td>0.0</td>\n",
       "      <td>0.449693</td>\n",
       "      <td>0.534821</td>\n",
       "      <td>0.955026</td>\n",
       "      <td>0.030618</td>\n",
       "      <td>0.433832</td>\n",
       "      <td>0.445046</td>\n",
       "      <td>0.067303</td>\n",
       "      <td>0.050488</td>\n",
       "      <td>0.418031</td>\n",
       "      <td>...</td>\n",
       "      <td>0.112542</td>\n",
       "      <td>0.857789</td>\n",
       "      <td>0.022296</td>\n",
       "      <td>0.543724</td>\n",
       "      <td>0.068229</td>\n",
       "      <td>0.958582</td>\n",
       "      <td>0.952190</td>\n",
       "      <td>0.473541</td>\n",
       "      <td>0.965129</td>\n",
       "      <td>0.249649</td>\n",
       "    </tr>\n",
       "    <tr>\n",
       "      <th>GSM4056713</th>\n",
       "      <td>0.0</td>\n",
       "      <td>0.885077</td>\n",
       "      <td>0.383795</td>\n",
       "      <td>0.422111</td>\n",
       "      <td>0.085304</td>\n",
       "      <td>0.126704</td>\n",
       "      <td>0.767489</td>\n",
       "      <td>0.275319</td>\n",
       "      <td>0.517630</td>\n",
       "      <td>0.538155</td>\n",
       "      <td>...</td>\n",
       "      <td>0.882050</td>\n",
       "      <td>0.561696</td>\n",
       "      <td>0.018676</td>\n",
       "      <td>0.532568</td>\n",
       "      <td>0.475753</td>\n",
       "      <td>0.670928</td>\n",
       "      <td>0.215293</td>\n",
       "      <td>0.474573</td>\n",
       "      <td>0.046021</td>\n",
       "      <td>0.573963</td>\n",
       "    </tr>\n",
       "    <tr>\n",
       "      <th>GSM4056732</th>\n",
       "      <td>0.0</td>\n",
       "      <td>0.912686</td>\n",
       "      <td>0.514823</td>\n",
       "      <td>0.422171</td>\n",
       "      <td>0.028561</td>\n",
       "      <td>0.130650</td>\n",
       "      <td>0.101693</td>\n",
       "      <td>0.054404</td>\n",
       "      <td>0.526072</td>\n",
       "      <td>0.110791</td>\n",
       "      <td>...</td>\n",
       "      <td>0.141594</td>\n",
       "      <td>0.517030</td>\n",
       "      <td>0.279730</td>\n",
       "      <td>0.545570</td>\n",
       "      <td>0.505435</td>\n",
       "      <td>0.042741</td>\n",
       "      <td>0.499660</td>\n",
       "      <td>0.848134</td>\n",
       "      <td>0.519053</td>\n",
       "      <td>0.399340</td>\n",
       "    </tr>\n",
       "  </tbody>\n",
       "</table>\n",
       "<p>5 rows × 41432 columns</p>\n",
       "</div>"
      ],
      "text/plain": [
       "            Phenotypes segregation  cg00000029  cg00000363  cg00001249  \\\n",
       "GSM4056740                     0.0    0.057635    0.354353    0.433972   \n",
       "GSM4056718                     0.0    0.953871    0.091226    0.452134   \n",
       "GSM4056710                     0.0    0.449693    0.534821    0.955026   \n",
       "GSM4056713                     0.0    0.885077    0.383795    0.422111   \n",
       "GSM4056732                     0.0    0.912686    0.514823    0.422171   \n",
       "\n",
       "            cg00001269  cg00001583  cg00001747  cg00001854  cg00001874  \\\n",
       "GSM4056740    0.688887    0.517182    0.225309    0.095196    0.106635   \n",
       "GSM4056718    0.022800    0.228642    0.039757    0.063718    0.067420   \n",
       "GSM4056710    0.030618    0.433832    0.445046    0.067303    0.050488   \n",
       "GSM4056713    0.085304    0.126704    0.767489    0.275319    0.517630   \n",
       "GSM4056732    0.028561    0.130650    0.101693    0.054404    0.526072   \n",
       "\n",
       "            cg00002190  ...  cg27661104  cg27662481  cg27662505  cg27663031  \\\n",
       "GSM4056740    0.383397  ...    0.537107    0.127098    0.215972    0.479048   \n",
       "GSM4056718    0.092946  ...    0.026241    0.153379    0.013760    0.056495   \n",
       "GSM4056710    0.418031  ...    0.112542    0.857789    0.022296    0.543724   \n",
       "GSM4056713    0.538155  ...    0.882050    0.561696    0.018676    0.532568   \n",
       "GSM4056732    0.110791  ...    0.141594    0.517030    0.279730    0.545570   \n",
       "\n",
       "            cg27663071  cg27663249  cg27664085  cg27664407  cg27664689  \\\n",
       "GSM4056740    0.088706    0.465241    0.339083    0.051594    0.445298   \n",
       "GSM4056718    0.602235    0.478752    0.062978    0.505023    0.551180   \n",
       "GSM4056710    0.068229    0.958582    0.952190    0.473541    0.965129   \n",
       "GSM4056713    0.475753    0.670928    0.215293    0.474573    0.046021   \n",
       "GSM4056732    0.505435    0.042741    0.499660    0.848134    0.519053   \n",
       "\n",
       "            cg27664844  \n",
       "GSM4056740    0.099585  \n",
       "GSM4056718    0.111583  \n",
       "GSM4056710    0.249649  \n",
       "GSM4056713    0.573963  \n",
       "GSM4056732    0.399340  \n",
       "\n",
       "[5 rows x 41432 columns]"
      ]
     },
     "execution_count": 23,
     "metadata": {},
     "output_type": "execute_result"
    }
   ],
   "source": [
    "data.head()"
   ]
  },
  {
   "cell_type": "code",
   "execution_count": 24,
   "metadata": {
    "ExecuteTime": {
     "end_time": "2020-09-22T14:54:42.610457Z",
     "start_time": "2020-09-22T14:54:42.556787Z"
    }
   },
   "outputs": [],
   "source": [
    "data_values = data.drop(\"Phenotypes segregation\", axis=1)"
   ]
  },
  {
   "cell_type": "code",
   "execution_count": 25,
   "metadata": {
    "ExecuteTime": {
     "end_time": "2020-09-22T14:54:49.870656Z",
     "start_time": "2020-09-22T14:54:48.773087Z"
    }
   },
   "outputs": [],
   "source": [
    "# Projection 2d\n",
    "tsne = TSNE(n_components=2, random_state=101, method=\"exact\")\n",
    "\n",
    "scaled_data_values = StandardScaler().fit_transform(data_values)\n",
    "data_values_projection_2d = tsne.fit_transform(scaled_data_values)"
   ]
  },
  {
   "cell_type": "code",
   "execution_count": 51,
   "metadata": {
    "ExecuteTime": {
     "end_time": "2020-09-22T14:57:23.356739Z",
     "start_time": "2020-09-22T14:57:20.523393Z"
    }
   },
   "outputs": [],
   "source": [
    "res = {}\n",
    "\n",
    "for _k in range(2, 5):\n",
    "    km = KMeans(n_clusters=_k, random_state=101)\n",
    "    km.fit(scaled_data_values)\n",
    "    labels = km.labels_\n",
    "    \n",
    "    sc_score = metrics.silhouette_score(scaled_data_values, labels, random_state=101)\n",
    "    \n",
    "    res.update({f\"Clusters {_k}\": {\"Silhouette score\": sc_score}})"
   ]
  },
  {
   "cell_type": "code",
   "execution_count": 52,
   "metadata": {
    "ExecuteTime": {
     "end_time": "2020-09-22T14:57:27.528355Z",
     "start_time": "2020-09-22T14:57:27.513715Z"
    }
   },
   "outputs": [
    {
     "data": {
      "text/html": [
       "<div>\n",
       "<style scoped>\n",
       "    .dataframe tbody tr th:only-of-type {\n",
       "        vertical-align: middle;\n",
       "    }\n",
       "\n",
       "    .dataframe tbody tr th {\n",
       "        vertical-align: top;\n",
       "    }\n",
       "\n",
       "    .dataframe thead th {\n",
       "        text-align: right;\n",
       "    }\n",
       "</style>\n",
       "<table border=\"1\" class=\"dataframe\">\n",
       "  <thead>\n",
       "    <tr style=\"text-align: right;\">\n",
       "      <th></th>\n",
       "      <th>Clusters 2</th>\n",
       "      <th>Clusters 3</th>\n",
       "      <th>Clusters 4</th>\n",
       "    </tr>\n",
       "  </thead>\n",
       "  <tbody>\n",
       "    <tr>\n",
       "      <th>Silhouette score</th>\n",
       "      <td>0.04061</td>\n",
       "      <td>0.016643</td>\n",
       "      <td>0.025279</td>\n",
       "    </tr>\n",
       "  </tbody>\n",
       "</table>\n",
       "</div>"
      ],
      "text/plain": [
       "                  Clusters 2  Clusters 3  Clusters 4\n",
       "Silhouette score     0.04061    0.016643    0.025279"
      ]
     },
     "execution_count": 52,
     "metadata": {},
     "output_type": "execute_result"
    }
   ],
   "source": [
    "c_metrics = pd.DataFrame.from_dict(res)\n",
    "c_metrics"
   ]
  },
  {
   "cell_type": "code",
   "execution_count": 53,
   "metadata": {
    "ExecuteTime": {
     "end_time": "2020-09-22T14:57:31.744433Z",
     "start_time": "2020-09-22T14:57:31.568464Z"
    }
   },
   "outputs": [
    {
     "data": {
      "text/plain": [
       "<matplotlib.axes._subplots.AxesSubplot at 0x7f367899ca10>"
      ]
     },
     "execution_count": 53,
     "metadata": {},
     "output_type": "execute_result"
    },
    {
     "data": {
      "image/png": "[encoded data removed]",
      "text/plain": [
       "<Figure size 432x288 with 1 Axes>"
      ]
     },
     "metadata": {
      "needs_background": "light"
     },
     "output_type": "display_data"
    }
   ],
   "source": [
    "c_metrics.loc[\"Silhouette score\", :].plot()"
   ]
  },
  {
   "cell_type": "code",
   "execution_count": 54,
   "metadata": {
    "ExecuteTime": {
     "end_time": "2020-09-22T14:57:36.671959Z",
     "start_time": "2020-09-22T14:57:35.889699Z"
    }
   },
   "outputs": [],
   "source": [
    "km = KMeans(n_clusters=2)\n",
    "km.fit(scaled_data_values)\n",
    "\n",
    "km_labels = km.labels_.reshape(-1, 1).astype(str)\n",
    "km_data = np.concatenate((data_values_projection_2d, km_labels), axis=1)\n",
    "km_data = pd.DataFrame(km_data, columns=[\"C1\", \"C2\", \"Class\"]).astype(float)\n",
    "\n",
    "km_data[\"Class\"] = km_data[\"Class\"].astype(str)"
   ]
  },
  {
   "cell_type": "code",
   "execution_count": 55,
   "metadata": {
    "ExecuteTime": {
     "end_time": "2020-09-22T14:57:40.890771Z",
     "start_time": "2020-09-22T14:57:40.876825Z"
    }
   },
   "outputs": [
    {
     "data": {
      "text/html": [
       "<div>\n",
       "<style scoped>\n",
       "    .dataframe tbody tr th:only-of-type {\n",
       "        vertical-align: middle;\n",
       "    }\n",
       "\n",
       "    .dataframe tbody tr th {\n",
       "        vertical-align: top;\n",
       "    }\n",
       "\n",
       "    .dataframe thead th {\n",
       "        text-align: right;\n",
       "    }\n",
       "</style>\n",
       "<table border=\"1\" class=\"dataframe\">\n",
       "  <thead>\n",
       "    <tr style=\"text-align: right;\">\n",
       "      <th></th>\n",
       "      <th>C1</th>\n",
       "      <th>C2</th>\n",
       "      <th>Class</th>\n",
       "    </tr>\n",
       "  </thead>\n",
       "  <tbody>\n",
       "    <tr>\n",
       "      <th>0</th>\n",
       "      <td>-151.42993</td>\n",
       "      <td>-90.149370</td>\n",
       "      <td>1.0</td>\n",
       "    </tr>\n",
       "    <tr>\n",
       "      <th>1</th>\n",
       "      <td>-158.31717</td>\n",
       "      <td>-58.014150</td>\n",
       "      <td>1.0</td>\n",
       "    </tr>\n",
       "    <tr>\n",
       "      <th>2</th>\n",
       "      <td>162.50482</td>\n",
       "      <td>-37.509106</td>\n",
       "      <td>1.0</td>\n",
       "    </tr>\n",
       "    <tr>\n",
       "      <th>3</th>\n",
       "      <td>-136.51537</td>\n",
       "      <td>-72.938220</td>\n",
       "      <td>1.0</td>\n",
       "    </tr>\n",
       "    <tr>\n",
       "      <th>4</th>\n",
       "      <td>142.92416</td>\n",
       "      <td>26.119421</td>\n",
       "      <td>1.0</td>\n",
       "    </tr>\n",
       "  </tbody>\n",
       "</table>\n",
       "</div>"
      ],
      "text/plain": [
       "          C1         C2 Class\n",
       "0 -151.42993 -90.149370   1.0\n",
       "1 -158.31717 -58.014150   1.0\n",
       "2  162.50482 -37.509106   1.0\n",
       "3 -136.51537 -72.938220   1.0\n",
       "4  142.92416  26.119421   1.0"
      ]
     },
     "execution_count": 55,
     "metadata": {},
     "output_type": "execute_result"
    }
   ],
   "source": [
    "km_data.head()"
   ]
  },
  {
   "cell_type": "code",
   "execution_count": 56,
   "metadata": {
    "ExecuteTime": {
     "end_time": "2020-09-22T14:57:45.851845Z",
     "start_time": "2020-09-22T14:57:45.752720Z"
    }
   },
   "outputs": [
    {
     "data": {
      "application/vnd.plotly.v1+json": {
       "config": {
        "plotlyServerURL": "https://plot.ly"
       },
       "data": [
        {
         "hovertemplate": "Class=1.0<br>C1=%{x}<br>C2=%{y}<extra></extra>",
         "legendgroup": "1.0",
         "marker": {
          "color": "#636efa",
          "symbol": "circle"
         },
         "mode": "markers",
         "name": "1.0",
         "orientation": "v",
         "showlegend": true,
         "type": "scatter",
         "x": [
          -151.42993,
          -158.31717,
          162.50482,
          -136.51537,
          142.92416,
          -88.52145,
          35.329777,
          -85.95445,
          -146.53864,
          -83.18036,
          -59.967064,
          -78.893166,
          -18.24336,
          -112.054375,
          -17.94738,
          -51.307873,
          -101.60509,
          -41.86777,
          -63.945072,
          -70.65716,
          -56.618435,
          -34.758522,
          -83.55369,
          -23.128525,
          -50.697624,
          -60.603863,
          92.52564,
          122.6903,
          -120.742226,
          -41.638916,
          -117.91848
         ],
         "xaxis": "x",
         "y": [
          -90.14937,
          -58.01415,
          -37.509106,
          -72.93822,
          26.119421,
          -104.42126,
          -78.72057,
          101.90536,
          49.725346,
          -71.39504,
          -81.925575,
          23.685085,
          -14.506015,
          -43.591103,
          -42.013523,
          14.256551,
          -3.5719304,
          -55.279095,
          -51.531048,
          -6.227795,
          -28.929863,
          -29.194046,
          -36.879395,
          -81.441414,
          -111.00699,
          69.164024,
          117.29483,
          76.12708,
          -93.06329,
          -7.384675,
          77.544975
         ],
         "yaxis": "y"
        },
        {
         "hovertemplate": "Class=0.0<br>C1=%{x}<br>C2=%{y}<extra></extra>",
         "legendgroup": "0.0",
         "marker": {
          "color": "#EF553B",
          "symbol": "circle"
         },
         "mode": "markers",
         "name": "0.0",
         "orientation": "v",
         "showlegend": true,
         "type": "scatter",
         "x": [
          -136.27435,
          125.18673,
          106.09138,
          1.5009103,
          98.396675,
          99.69315,
          127.43729,
          29.71848,
          -2.8747616,
          49.20309,
          -91.03707,
          -45.71639,
          27.437593,
          76.97178,
          8.757237,
          24.263044,
          83.58717,
          21.425945,
          -24.80457,
          57.48637,
          3.6040263,
          -19.050451,
          71.07028,
          -15.252892,
          2.6708622,
          66.68948,
          3.8862126,
          35.16823,
          59.59289,
          94.78167,
          21.730972,
          42.642017,
          54.454956,
          -38.740032,
          46.505875,
          -5.002882,
          15.830479,
          49.08337,
          32.26851,
          18.886986,
          68.35229
         ],
         "xaxis": "x",
         "y": [
          12.504846,
          -58.728832,
          -95.06632,
          21.456161,
          -32.05502,
          38.504044,
          -8.932229,
          -45.794666,
          -4.1197453,
          74.053795,
          52.48041,
          43.807014,
          140.20859,
          -66.47345,
          -27.369858,
          99.16647,
          73.513535,
          -5.9965835,
          12.122926,
          104.34899,
          -105.529205,
          39.74328,
          -11.944972,
          74.41557,
          -58.27509,
          49.0274,
          48.21457,
          52.34106,
          -41.982544,
          6.995263,
          34.132484,
          -18.801811,
          -111.4005,
          105.99041,
          32.443573,
          113.81924,
          71.584656,
          3.986318,
          17.119652,
          6.1526775,
          19.956991
         ],
         "yaxis": "y"
        }
       ],
       "layout": {
        "legend": {
         "title": {
          "text": "Class"
         },
         "tracegroupgap": 0
        },
        "margin": {
         "t": 60
        },
        "template": {
         "data": {
          "bar": [
           {
            "error_x": {
             "color": "#2a3f5f"
            },
            "error_y": {
             "color": "#2a3f5f"
            },
            "marker": {
             "line": {
              "color": "#E5ECF6",
              "width": 0.5
             }
            },
            "type": "bar"
           }
          ],
          "barpolar": [
           {
            "marker": {
             "line": {
              "color": "#E5ECF6",
              "width": 0.5
             }
            },
            "type": "barpolar"
           }
          ],
          "carpet": [
           {
            "aaxis": {
             "endlinecolor": "#2a3f5f",
             "gridcolor": "white",
             "linecolor": "white",
             "minorgridcolor": "white",
             "startlinecolor": "#2a3f5f"
            },
            "baxis": {
             "endlinecolor": "#2a3f5f",
             "gridcolor": "white",
             "linecolor": "white",
             "minorgridcolor": "white",
             "startlinecolor": "#2a3f5f"
            },
            "type": "carpet"
           }
          ],
          "choropleth": [
           {
            "colorbar": {
             "outlinewidth": 0,
             "ticks": ""
            },
            "type": "choropleth"
           }
          ],
          "contour": [
           {
            "colorbar": {
             "outlinewidth": 0,
             "ticks": ""
            },
            "colorscale": [
             [
              0,
              "#0d0887"
             ],
             [
              0.1111111111111111,
              "#46039f"
             ],
             [
              0.2222222222222222,
              "#7201a8"
             ],
             [
              0.3333333333333333,
              "#9c179e"
             ],
             [
              0.4444444444444444,
              "#bd3786"
             ],
             [
              0.5555555555555556,
              "#d8576b"
             ],
             [
              0.6666666666666666,
              "#ed7953"
             ],
             [
              0.7777777777777778,
              "#fb9f3a"
             ],
             [
              0.8888888888888888,
              "#fdca26"
             ],
             [
              1,
              "#f0f921"
             ]
            ],
            "type": "contour"
           }
          ],
          "contourcarpet": [
           {
            "colorbar": {
             "outlinewidth": 0,
             "ticks": ""
            },
            "type": "contourcarpet"
           }
          ],
          "heatmap": [
           {
            "colorbar": {
             "outlinewidth": 0,
             "ticks": ""
            },
            "colorscale": [
             [
              0,
              "#0d0887"
             ],
             [
              0.1111111111111111,
              "#46039f"
             ],
             [
              0.2222222222222222,
              "#7201a8"
             ],
             [
              0.3333333333333333,
              "#9c179e"
             ],
             [
              0.4444444444444444,
              "#bd3786"
             ],
             [
              0.5555555555555556,
              "#d8576b"
             ],
             [
              0.6666666666666666,
              "#ed7953"
             ],
             [
              0.7777777777777778,
              "#fb9f3a"
             ],
             [
              0.8888888888888888,
              "#fdca26"
             ],
             [
              1,
              "#f0f921"
             ]
            ],
            "type": "heatmap"
           }
          ],
          "heatmapgl": [
           {
            "colorbar": {
             "outlinewidth": 0,
             "ticks": ""
            },
            "colorscale": [
             [
              0,
              "#0d0887"
             ],
             [
              0.1111111111111111,
              "#46039f"
             ],
             [
              0.2222222222222222,
              "#7201a8"
             ],
             [
              0.3333333333333333,
              "#9c179e"
             ],
             [
              0.4444444444444444,
              "#bd3786"
             ],
             [
              0.5555555555555556,
              "#d8576b"
             ],
             [
              0.6666666666666666,
              "#ed7953"
             ],
             [
              0.7777777777777778,
              "#fb9f3a"
             ],
             [
              0.8888888888888888,
              "#fdca26"
             ],
             [
              1,
              "#f0f921"
             ]
            ],
            "type": "heatmapgl"
           }
          ],
          "histogram": [
           {
            "marker": {
             "colorbar": {
              "outlinewidth": 0,
              "ticks": ""
             }
            },
            "type": "histogram"
           }
          ],
          "histogram2d": [
           {
            "colorbar": {
             "outlinewidth": 0,
             "ticks": ""
            },
            "colorscale": [
             [
              0,
              "#0d0887"
             ],
             [
              0.1111111111111111,
              "#46039f"
             ],
             [
              0.2222222222222222,
              "#7201a8"
             ],
             [
              0.3333333333333333,
              "#9c179e"
             ],
             [
              0.4444444444444444,
              "#bd3786"
             ],
             [
              0.5555555555555556,
              "#d8576b"
             ],
             [
              0.6666666666666666,
              "#ed7953"
             ],
             [
              0.7777777777777778,
              "#fb9f3a"
             ],
             [
              0.8888888888888888,
              "#fdca26"
             ],
             [
              1,
              "#f0f921"
             ]
            ],
            "type": "histogram2d"
           }
          ],
          "histogram2dcontour": [
           {
            "colorbar": {
             "outlinewidth": 0,
             "ticks": ""
            },
            "colorscale": [
             [
              0,
              "#0d0887"
             ],
             [
              0.1111111111111111,
              "#46039f"
             ],
             [
              0.2222222222222222,
              "#7201a8"
             ],
             [
              0.3333333333333333,
              "#9c179e"
             ],
             [
              0.4444444444444444,
              "#bd3786"
             ],
             [
              0.5555555555555556,
              "#d8576b"
             ],
             [
              0.6666666666666666,
              "#ed7953"
             ],
             [
              0.7777777777777778,
              "#fb9f3a"
             ],
             [
              0.8888888888888888,
              "#fdca26"
             ],
             [
              1,
              "#f0f921"
             ]
            ],
            "type": "histogram2dcontour"
           }
          ],
          "mesh3d": [
           {
            "colorbar": {
             "outlinewidth": 0,
             "ticks": ""
            },
            "type": "mesh3d"
           }
          ],
          "parcoords": [
           {
            "line": {
             "colorbar": {
              "outlinewidth": 0,
              "ticks": ""
             }
            },
            "type": "parcoords"
           }
          ],
          "pie": [
           {
            "automargin": true,
            "type": "pie"
           }
          ],
          "scatter": [
           {
            "marker": {
             "colorbar": {
              "outlinewidth": 0,
              "ticks": ""
             }
            },
            "type": "scatter"
           }
          ],
          "scatter3d": [
           {
            "line": {
             "colorbar": {
              "outlinewidth": 0,
              "ticks": ""
             }
            },
            "marker": {
             "colorbar": {
              "outlinewidth": 0,
              "ticks": ""
             }
            },
            "type": "scatter3d"
           }
          ],
          "scattercarpet": [
           {
            "marker": {
             "colorbar": {
              "outlinewidth": 0,
              "ticks": ""
             }
            },
            "type": "scattercarpet"
           }
          ],
          "scattergeo": [
           {
            "marker": {
             "colorbar": {
              "outlinewidth": 0,
              "ticks": ""
             }
            },
            "type": "scattergeo"
           }
          ],
          "scattergl": [
           {
            "marker": {
             "colorbar": {
              "outlinewidth": 0,
              "ticks": ""
             }
            },
            "type": "scattergl"
           }
          ],
          "scattermapbox": [
           {
            "marker": {
             "colorbar": {
              "outlinewidth": 0,
              "ticks": ""
             }
            },
            "type": "scattermapbox"
           }
          ],
          "scatterpolar": [
           {
            "marker": {
             "colorbar": {
              "outlinewidth": 0,
              "ticks": ""
             }
            },
            "type": "scatterpolar"
           }
          ],
          "scatterpolargl": [
           {
            "marker": {
             "colorbar": {
              "outlinewidth": 0,
              "ticks": ""
             }
            },
            "type": "scatterpolargl"
           }
          ],
          "scatterternary": [
           {
            "marker": {
             "colorbar": {
              "outlinewidth": 0,
              "ticks": ""
             }
            },
            "type": "scatterternary"
           }
          ],
          "surface": [
           {
            "colorbar": {
             "outlinewidth": 0,
             "ticks": ""
            },
            "colorscale": [
             [
              0,
              "#0d0887"
             ],
             [
              0.1111111111111111,
              "#46039f"
             ],
             [
              0.2222222222222222,
              "#7201a8"
             ],
             [
              0.3333333333333333,
              "#9c179e"
             ],
             [
              0.4444444444444444,
              "#bd3786"
             ],
             [
              0.5555555555555556,
              "#d8576b"
             ],
             [
              0.6666666666666666,
              "#ed7953"
             ],
             [
              0.7777777777777778,
              "#fb9f3a"
             ],
             [
              0.8888888888888888,
              "#fdca26"
             ],
             [
              1,
              "#f0f921"
             ]
            ],
            "type": "surface"
           }
          ],
          "table": [
           {
            "cells": {
             "fill": {
              "color": "#EBF0F8"
             },
             "line": {
              "color": "white"
             }
            },
            "header": {
             "fill": {
              "color": "#C8D4E3"
             },
             "line": {
              "color": "white"
             }
            },
            "type": "table"
           }
          ]
         },
         "layout": {
          "annotationdefaults": {
           "arrowcolor": "#2a3f5f",
           "arrowhead": 0,
           "arrowwidth": 1
          },
          "coloraxis": {
           "colorbar": {
            "outlinewidth": 0,
            "ticks": ""
           }
          },
          "colorscale": {
           "diverging": [
            [
             0,
             "#8e0152"
            ],
            [
             0.1,
             "#c51b7d"
            ],
            [
             0.2,
             "#de77ae"
            ],
            [
             0.3,
             "#f1b6da"
            ],
            [
             0.4,
             "#fde0ef"
            ],
            [
             0.5,
             "#f7f7f7"
            ],
            [
             0.6,
             "#e6f5d0"
            ],
            [
             0.7,
             "#b8e186"
            ],
            [
             0.8,
             "#7fbc41"
            ],
            [
             0.9,
             "#4d9221"
            ],
            [
             1,
             "#276419"
            ]
           ],
           "sequential": [
            [
             0,
             "#0d0887"
            ],
            [
             0.1111111111111111,
             "#46039f"
            ],
            [
             0.2222222222222222,
             "#7201a8"
            ],
            [
             0.3333333333333333,
             "#9c179e"
            ],
            [
             0.4444444444444444,
             "#bd3786"
            ],
            [
             0.5555555555555556,
             "#d8576b"
            ],
            [
             0.6666666666666666,
             "#ed7953"
            ],
            [
             0.7777777777777778,
             "#fb9f3a"
            ],
            [
             0.8888888888888888,
             "#fdca26"
            ],
            [
             1,
             "#f0f921"
            ]
           ],
           "sequentialminus": [
            [
             0,
             "#0d0887"
            ],
            [
             0.1111111111111111,
             "#46039f"
            ],
            [
             0.2222222222222222,
             "#7201a8"
            ],
            [
             0.3333333333333333,
             "#9c179e"
            ],
            [
             0.4444444444444444,
             "#bd3786"
            ],
            [
             0.5555555555555556,
             "#d8576b"
            ],
            [
             0.6666666666666666,
             "#ed7953"
            ],
            [
             0.7777777777777778,
             "#fb9f3a"
            ],
            [
             0.8888888888888888,
             "#fdca26"
            ],
            [
             1,
             "#f0f921"
            ]
           ]
          },
          "colorway": [
           "#636efa",
           "#EF553B",
           "#00cc96",
           "#ab63fa",
           "#FFA15A",
           "#19d3f3",
           "#FF6692",
           "#B6E880",
           "#FF97FF",
           "#FECB52"
          ],
          "font": {
           "color": "#2a3f5f"
          },
          "geo": {
           "bgcolor": "white",
           "lakecolor": "white",
           "landcolor": "#E5ECF6",
           "showlakes": true,
           "showland": true,
           "subunitcolor": "white"
          },
          "hoverlabel": {
           "align": "left"
          },
          "hovermode": "closest",
          "mapbox": {
           "style": "light"
          },
          "paper_bgcolor": "white",
          "plot_bgcolor": "#E5ECF6",
          "polar": {
           "angularaxis": {
            "gridcolor": "white",
            "linecolor": "white",
            "ticks": ""
           },
           "bgcolor": "#E5ECF6",
           "radialaxis": {
            "gridcolor": "white",
            "linecolor": "white",
            "ticks": ""
           }
          },
          "scene": {
           "xaxis": {
            "backgroundcolor": "#E5ECF6",
            "gridcolor": "white",
            "gridwidth": 2,
            "linecolor": "white",
            "showbackground": true,
            "ticks": "",
            "zerolinecolor": "white"
           },
           "yaxis": {
            "backgroundcolor": "#E5ECF6",
            "gridcolor": "white",
            "gridwidth": 2,
            "linecolor": "white",
            "showbackground": true,
            "ticks": "",
            "zerolinecolor": "white"
           },
           "zaxis": {
            "backgroundcolor": "#E5ECF6",
            "gridcolor": "white",
            "gridwidth": 2,
            "linecolor": "white",
            "showbackground": true,
            "ticks": "",
            "zerolinecolor": "white"
           }
          },
          "shapedefaults": {
           "line": {
            "color": "#2a3f5f"
           }
          },
          "ternary": {
           "aaxis": {
            "gridcolor": "white",
            "linecolor": "white",
            "ticks": ""
           },
           "baxis": {
            "gridcolor": "white",
            "linecolor": "white",
            "ticks": ""
           },
           "bgcolor": "#E5ECF6",
           "caxis": {
            "gridcolor": "white",
            "linecolor": "white",
            "ticks": ""
           }
          },
          "title": {
           "x": 0.05
          },
          "xaxis": {
           "automargin": true,
           "gridcolor": "white",
           "linecolor": "white",
           "ticks": "",
           "title": {
            "standoff": 15
           },
           "zerolinecolor": "white",
           "zerolinewidth": 2
          },
          "yaxis": {
           "automargin": true,
           "gridcolor": "white",
           "linecolor": "white",
           "ticks": "",
           "title": {
            "standoff": 15
           },
           "zerolinecolor": "white",
           "zerolinewidth": 2
          }
         }
        },
        "xaxis": {
         "anchor": "y",
         "domain": [
          0,
          1
         ],
         "title": {
          "text": "C1"
         }
        },
        "yaxis": {
         "anchor": "x",
         "domain": [
          0,
          1
         ],
         "title": {
          "text": "C2"
         }
        }
       }
      },
      "text/html": [
       "<div>\n",
       "        \n",
       "        \n",
       "            <div id=\"9ff8ba90-8eb7-406e-abc4-251bcbcabeb6\" class=\"plotly-graph-div\" style=\"height:525px; width:100%;\"></div>\n",
       "            <script type=\"text/javascript\">\n",
       "                require([\"plotly\"], function(Plotly) {\n",
       "                    window.PLOTLYENV=window.PLOTLYENV || {};\n",
       "                    \n",
       "                if (document.getElementById(\"9ff8ba90-8eb7-406e-abc4-251bcbcabeb6\")) {\n",
       "                    Plotly.newPlot(\n",
       "                        '9ff8ba90-8eb7-406e-abc4-251bcbcabeb6',\n",
       "                        [{\"hovertemplate\": \"Class=1.0<br>C1=%{x}<br>C2=%{y}<extra></extra>\", \"legendgroup\": \"1.0\", \"marker\": {\"color\": \"#636efa\", \"symbol\": \"circle\"}, \"mode\": \"markers\", \"name\": \"1.0\", \"orientation\": \"v\", \"showlegend\": true, \"type\": \"scatter\", \"x\": [-151.42993, -158.31717, 162.50482, -136.51537, 142.92416, -88.52145, 35.329777, -85.95445, -146.53864, -83.18036, -59.967064, -78.893166, -18.24336, -112.054375, -17.94738, -51.307873, -101.60509, -41.86777, -63.945072, -70.65716, -56.618435, -34.758522, -83.55369, -23.128525, -50.697624, -60.603863, 92.52564, 122.6903, -120.742226, -41.638916, -117.91848], \"xaxis\": \"x\", \"y\": [-90.14937, -58.01415, -37.509106, -72.93822, 26.119421, -104.42126, -78.72057, 101.90536, 49.725346, -71.39504, -81.925575, 23.685085, -14.506015, -43.591103, -42.013523, 14.256551, -3.5719304, -55.279095, -51.531048, -6.227795, -28.929863, -29.194046, -36.879395, -81.441414, -111.00699, 69.164024, 117.29483, 76.12708, -93.06329, -7.384675, 77.544975], \"yaxis\": \"y\"}, {\"hovertemplate\": \"Class=0.0<br>C1=%{x}<br>C2=%{y}<extra></extra>\", \"legendgroup\": \"0.0\", \"marker\": {\"color\": \"#EF553B\", \"symbol\": \"circle\"}, \"mode\": \"markers\", \"name\": \"0.0\", \"orientation\": \"v\", \"showlegend\": true, \"type\": \"scatter\", \"x\": [-136.27435, 125.18673, 106.09138, 1.5009103, 98.396675, 99.69315, 127.43729, 29.71848, -2.8747616, 49.20309, -91.03707, -45.71639, 27.437593, 76.97178, 8.757237, 24.263044, 83.58717, 21.425945, -24.80457, 57.48637, 3.6040263, -19.050451, 71.07028, -15.252892, 2.6708622, 66.68948, 3.8862126, 35.16823, 59.59289, 94.78167, 21.730972, 42.642017, 54.454956, -38.740032, 46.505875, -5.002882, 15.830479, 49.08337, 32.26851, 18.886986, 68.35229], \"xaxis\": \"x\", \"y\": [12.504846, -58.728832, -95.06632, 21.456161, -32.05502, 38.504044, -8.932229, -45.794666, -4.1197453, 74.053795, 52.48041, 43.807014, 140.20859, -66.47345, -27.369858, 99.16647, 73.513535, -5.9965835, 12.122926, 104.34899, -105.529205, 39.74328, -11.944972, 74.41557, -58.27509, 49.0274, 48.21457, 52.34106, -41.982544, 6.995263, 34.132484, -18.801811, -111.4005, 105.99041, 32.443573, 113.81924, 71.584656, 3.986318, 17.119652, 6.1526775, 19.956991], \"yaxis\": \"y\"}],\n",
       "                        {\"legend\": {\"title\": {\"text\": \"Class\"}, \"tracegroupgap\": 0}, \"margin\": {\"t\": 60}, \"template\": {\"data\": {\"bar\": [{\"error_x\": {\"color\": \"#2a3f5f\"}, \"error_y\": {\"color\": \"#2a3f5f\"}, \"marker\": {\"line\": {\"color\": \"#E5ECF6\", \"width\": 0.5}}, \"type\": \"bar\"}], \"barpolar\": [{\"marker\": {\"line\": {\"color\": \"#E5ECF6\", \"width\": 0.5}}, \"type\": \"barpolar\"}], \"carpet\": [{\"aaxis\": {\"endlinecolor\": \"#2a3f5f\", \"gridcolor\": \"white\", \"linecolor\": \"white\", \"minorgridcolor\": \"white\", \"startlinecolor\": \"#2a3f5f\"}, \"baxis\": {\"endlinecolor\": \"#2a3f5f\", \"gridcolor\": \"white\", \"linecolor\": \"white\", \"minorgridcolor\": \"white\", \"startlinecolor\": \"#2a3f5f\"}, \"type\": \"carpet\"}], \"choropleth\": [{\"colorbar\": {\"outlinewidth\": 0, \"ticks\": \"\"}, \"type\": \"choropleth\"}], \"contour\": [{\"colorbar\": {\"outlinewidth\": 0, \"ticks\": \"\"}, \"colorscale\": [[0.0, \"#0d0887\"], [0.1111111111111111, \"#46039f\"], [0.2222222222222222, \"#7201a8\"], [0.3333333333333333, \"#9c179e\"], [0.4444444444444444, \"#bd3786\"], [0.5555555555555556, \"#d8576b\"], [0.6666666666666666, \"#ed7953\"], [0.7777777777777778, \"#fb9f3a\"], [0.8888888888888888, \"#fdca26\"], [1.0, \"#f0f921\"]], \"type\": \"contour\"}], \"contourcarpet\": [{\"colorbar\": {\"outlinewidth\": 0, \"ticks\": \"\"}, \"type\": \"contourcarpet\"}], \"heatmap\": [{\"colorbar\": {\"outlinewidth\": 0, \"ticks\": \"\"}, \"colorscale\": [[0.0, \"#0d0887\"], [0.1111111111111111, \"#46039f\"], [0.2222222222222222, \"#7201a8\"], [0.3333333333333333, \"#9c179e\"], [0.4444444444444444, \"#bd3786\"], [0.5555555555555556, \"#d8576b\"], [0.6666666666666666, \"#ed7953\"], [0.7777777777777778, \"#fb9f3a\"], [0.8888888888888888, \"#fdca26\"], [1.0, \"#f0f921\"]], \"type\": \"heatmap\"}], \"heatmapgl\": [{\"colorbar\": {\"outlinewidth\": 0, \"ticks\": \"\"}, \"colorscale\": [[0.0, \"#0d0887\"], [0.1111111111111111, \"#46039f\"], [0.2222222222222222, \"#7201a8\"], [0.3333333333333333, \"#9c179e\"], [0.4444444444444444, \"#bd3786\"], [0.5555555555555556, \"#d8576b\"], [0.6666666666666666, \"#ed7953\"], [0.7777777777777778, \"#fb9f3a\"], [0.8888888888888888, \"#fdca26\"], [1.0, \"#f0f921\"]], \"type\": \"heatmapgl\"}], \"histogram\": [{\"marker\": {\"colorbar\": {\"outlinewidth\": 0, \"ticks\": \"\"}}, \"type\": \"histogram\"}], \"histogram2d\": [{\"colorbar\": {\"outlinewidth\": 0, \"ticks\": \"\"}, \"colorscale\": [[0.0, \"#0d0887\"], [0.1111111111111111, \"#46039f\"], [0.2222222222222222, \"#7201a8\"], [0.3333333333333333, \"#9c179e\"], [0.4444444444444444, \"#bd3786\"], [0.5555555555555556, \"#d8576b\"], [0.6666666666666666, \"#ed7953\"], [0.7777777777777778, \"#fb9f3a\"], [0.8888888888888888, \"#fdca26\"], [1.0, \"#f0f921\"]], \"type\": \"histogram2d\"}], \"histogram2dcontour\": [{\"colorbar\": {\"outlinewidth\": 0, \"ticks\": \"\"}, \"colorscale\": [[0.0, \"#0d0887\"], [0.1111111111111111, \"#46039f\"], [0.2222222222222222, \"#7201a8\"], [0.3333333333333333, \"#9c179e\"], [0.4444444444444444, \"#bd3786\"], [0.5555555555555556, \"#d8576b\"], [0.6666666666666666, \"#ed7953\"], [0.7777777777777778, \"#fb9f3a\"], [0.8888888888888888, \"#fdca26\"], [1.0, \"#f0f921\"]], \"type\": \"histogram2dcontour\"}], \"mesh3d\": [{\"colorbar\": {\"outlinewidth\": 0, \"ticks\": \"\"}, \"type\": \"mesh3d\"}], \"parcoords\": [{\"line\": {\"colorbar\": {\"outlinewidth\": 0, \"ticks\": \"\"}}, \"type\": \"parcoords\"}], \"pie\": [{\"automargin\": true, \"type\": \"pie\"}], \"scatter\": [{\"marker\": {\"colorbar\": {\"outlinewidth\": 0, \"ticks\": \"\"}}, \"type\": \"scatter\"}], \"scatter3d\": [{\"line\": {\"colorbar\": {\"outlinewidth\": 0, \"ticks\": \"\"}}, \"marker\": {\"colorbar\": {\"outlinewidth\": 0, \"ticks\": \"\"}}, \"type\": \"scatter3d\"}], \"scattercarpet\": [{\"marker\": {\"colorbar\": {\"outlinewidth\": 0, \"ticks\": \"\"}}, \"type\": \"scattercarpet\"}], \"scattergeo\": [{\"marker\": {\"colorbar\": {\"outlinewidth\": 0, \"ticks\": \"\"}}, \"type\": \"scattergeo\"}], \"scattergl\": [{\"marker\": {\"colorbar\": {\"outlinewidth\": 0, \"ticks\": \"\"}}, \"type\": \"scattergl\"}], \"scattermapbox\": [{\"marker\": {\"colorbar\": {\"outlinewidth\": 0, \"ticks\": \"\"}}, \"type\": \"scattermapbox\"}], \"scatterpolar\": [{\"marker\": {\"colorbar\": {\"outlinewidth\": 0, \"ticks\": \"\"}}, \"type\": \"scatterpolar\"}], \"scatterpolargl\": [{\"marker\": {\"colorbar\": {\"outlinewidth\": 0, \"ticks\": \"\"}}, \"type\": \"scatterpolargl\"}], \"scatterternary\": [{\"marker\": {\"colorbar\": {\"outlinewidth\": 0, \"ticks\": \"\"}}, \"type\": \"scatterternary\"}], \"surface\": [{\"colorbar\": {\"outlinewidth\": 0, \"ticks\": \"\"}, \"colorscale\": [[0.0, \"#0d0887\"], [0.1111111111111111, \"#46039f\"], [0.2222222222222222, \"#7201a8\"], [0.3333333333333333, \"#9c179e\"], [0.4444444444444444, \"#bd3786\"], [0.5555555555555556, \"#d8576b\"], [0.6666666666666666, \"#ed7953\"], [0.7777777777777778, \"#fb9f3a\"], [0.8888888888888888, \"#fdca26\"], [1.0, \"#f0f921\"]], \"type\": \"surface\"}], \"table\": [{\"cells\": {\"fill\": {\"color\": \"#EBF0F8\"}, \"line\": {\"color\": \"white\"}}, \"header\": {\"fill\": {\"color\": \"#C8D4E3\"}, \"line\": {\"color\": \"white\"}}, \"type\": \"table\"}]}, \"layout\": {\"annotationdefaults\": {\"arrowcolor\": \"#2a3f5f\", \"arrowhead\": 0, \"arrowwidth\": 1}, \"coloraxis\": {\"colorbar\": {\"outlinewidth\": 0, \"ticks\": \"\"}}, \"colorscale\": {\"diverging\": [[0, \"#8e0152\"], [0.1, \"#c51b7d\"], [0.2, \"#de77ae\"], [0.3, \"#f1b6da\"], [0.4, \"#fde0ef\"], [0.5, \"#f7f7f7\"], [0.6, \"#e6f5d0\"], [0.7, \"#b8e186\"], [0.8, \"#7fbc41\"], [0.9, \"#4d9221\"], [1, \"#276419\"]], \"sequential\": [[0.0, \"#0d0887\"], [0.1111111111111111, \"#46039f\"], [0.2222222222222222, \"#7201a8\"], [0.3333333333333333, \"#9c179e\"], [0.4444444444444444, \"#bd3786\"], [0.5555555555555556, \"#d8576b\"], [0.6666666666666666, \"#ed7953\"], [0.7777777777777778, \"#fb9f3a\"], [0.8888888888888888, \"#fdca26\"], [1.0, \"#f0f921\"]], \"sequentialminus\": [[0.0, \"#0d0887\"], [0.1111111111111111, \"#46039f\"], [0.2222222222222222, \"#7201a8\"], [0.3333333333333333, \"#9c179e\"], [0.4444444444444444, \"#bd3786\"], [0.5555555555555556, \"#d8576b\"], [0.6666666666666666, \"#ed7953\"], [0.7777777777777778, \"#fb9f3a\"], [0.8888888888888888, \"#fdca26\"], [1.0, \"#f0f921\"]]}, \"colorway\": [\"#636efa\", \"#EF553B\", \"#00cc96\", \"#ab63fa\", \"#FFA15A\", \"#19d3f3\", \"#FF6692\", \"#B6E880\", \"#FF97FF\", \"#FECB52\"], \"font\": {\"color\": \"#2a3f5f\"}, \"geo\": {\"bgcolor\": \"white\", \"lakecolor\": \"white\", \"landcolor\": \"#E5ECF6\", \"showlakes\": true, \"showland\": true, \"subunitcolor\": \"white\"}, \"hoverlabel\": {\"align\": \"left\"}, \"hovermode\": \"closest\", \"mapbox\": {\"style\": \"light\"}, \"paper_bgcolor\": \"white\", \"plot_bgcolor\": \"#E5ECF6\", \"polar\": {\"angularaxis\": {\"gridcolor\": \"white\", \"linecolor\": \"white\", \"ticks\": \"\"}, \"bgcolor\": \"#E5ECF6\", \"radialaxis\": {\"gridcolor\": \"white\", \"linecolor\": \"white\", \"ticks\": \"\"}}, \"scene\": {\"xaxis\": {\"backgroundcolor\": \"#E5ECF6\", \"gridcolor\": \"white\", \"gridwidth\": 2, \"linecolor\": \"white\", \"showbackground\": true, \"ticks\": \"\", \"zerolinecolor\": \"white\"}, \"yaxis\": {\"backgroundcolor\": \"#E5ECF6\", \"gridcolor\": \"white\", \"gridwidth\": 2, \"linecolor\": \"white\", \"showbackground\": true, \"ticks\": \"\", \"zerolinecolor\": \"white\"}, \"zaxis\": {\"backgroundcolor\": \"#E5ECF6\", \"gridcolor\": \"white\", \"gridwidth\": 2, \"linecolor\": \"white\", \"showbackground\": true, \"ticks\": \"\", \"zerolinecolor\": \"white\"}}, \"shapedefaults\": {\"line\": {\"color\": \"#2a3f5f\"}}, \"ternary\": {\"aaxis\": {\"gridcolor\": \"white\", \"linecolor\": \"white\", \"ticks\": \"\"}, \"baxis\": {\"gridcolor\": \"white\", \"linecolor\": \"white\", \"ticks\": \"\"}, \"bgcolor\": \"#E5ECF6\", \"caxis\": {\"gridcolor\": \"white\", \"linecolor\": \"white\", \"ticks\": \"\"}}, \"title\": {\"x\": 0.05}, \"xaxis\": {\"automargin\": true, \"gridcolor\": \"white\", \"linecolor\": \"white\", \"ticks\": \"\", \"title\": {\"standoff\": 15}, \"zerolinecolor\": \"white\", \"zerolinewidth\": 2}, \"yaxis\": {\"automargin\": true, \"gridcolor\": \"white\", \"linecolor\": \"white\", \"ticks\": \"\", \"title\": {\"standoff\": 15}, \"zerolinecolor\": \"white\", \"zerolinewidth\": 2}}}, \"xaxis\": {\"anchor\": \"y\", \"domain\": [0.0, 1.0], \"title\": {\"text\": \"C1\"}}, \"yaxis\": {\"anchor\": \"x\", \"domain\": [0.0, 1.0], \"title\": {\"text\": \"C2\"}}},\n",
       "                        {\"responsive\": true}\n",
       "                    ).then(function(){\n",
       "                            \n",
       "var gd = document.getElementById('9ff8ba90-8eb7-406e-abc4-251bcbcabeb6');\n",
       "var x = new MutationObserver(function (mutations, observer) {{\n",
       "        var display = window.getComputedStyle(gd).display;\n",
       "        if (!display || display === 'none') {{\n",
       "            console.log([gd, 'removed!']);\n",
       "            Plotly.purge(gd);\n",
       "            observer.disconnect();\n",
       "        }}\n",
       "}});\n",
       "\n",
       "// Listen for the removal of the full notebook cells\n",
       "var notebookContainer = gd.closest('#notebook-container');\n",
       "if (notebookContainer) {{\n",
       "    x.observe(notebookContainer, {childList: true});\n",
       "}}\n",
       "\n",
       "// Listen for the clearing of the current output cell\n",
       "var outputEl = gd.closest('.output');\n",
       "if (outputEl) {{\n",
       "    x.observe(outputEl, {childList: true});\n",
       "}}\n",
       "\n",
       "                        })\n",
       "                };\n",
       "                });\n",
       "            </script>\n",
       "        </div>"
      ]
     },
     "metadata": {},
     "output_type": "display_data"
    }
   ],
   "source": [
    "fig = px.scatter(km_data, x=\"C1\", y=\"C2\", color=\"Class\")\n",
    "fig.show()"
   ]
  },
  {
   "cell_type": "code",
   "execution_count": 57,
   "metadata": {
    "ExecuteTime": {
     "end_time": "2020-09-22T14:57:50.612866Z",
     "start_time": "2020-09-22T14:57:50.600368Z"
    }
   },
   "outputs": [
    {
     "data": {
      "text/plain": [
       "0.0    41\n",
       "1.0    31\n",
       "Name: Class, dtype: int64"
      ]
     },
     "execution_count": 57,
     "metadata": {},
     "output_type": "execute_result"
    }
   ],
   "source": [
    "km_data[\"Class\"].value_counts()"
   ]
  },
  {
   "cell_type": "code",
   "execution_count": 58,
   "metadata": {
    "ExecuteTime": {
     "end_time": "2020-09-22T14:57:55.307014Z",
     "start_time": "2020-09-22T14:57:55.303432Z"
    }
   },
   "outputs": [],
   "source": [
    "# Save results from KMeans"
   ]
  },
  {
   "cell_type": "code",
   "execution_count": 59,
   "metadata": {
    "ExecuteTime": {
     "end_time": "2020-09-22T14:57:59.659395Z",
     "start_time": "2020-09-22T14:57:59.626294Z"
    }
   },
   "outputs": [],
   "source": [
    "labels = pd.Series(km_labels.ravel(), index=data_values.index, name=\"Phenotypes segregation\")\n",
    "data_values[\"Phenotypes segregation\"] = labels"
   ]
  },
  {
   "cell_type": "code",
   "execution_count": 60,
   "metadata": {
    "ExecuteTime": {
     "end_time": "2020-09-22T14:58:06.699339Z",
     "start_time": "2020-09-22T14:58:06.674338Z"
    }
   },
   "outputs": [
    {
     "data": {
      "text/html": [
       "<div>\n",
       "<style scoped>\n",
       "    .dataframe tbody tr th:only-of-type {\n",
       "        vertical-align: middle;\n",
       "    }\n",
       "\n",
       "    .dataframe tbody tr th {\n",
       "        vertical-align: top;\n",
       "    }\n",
       "\n",
       "    .dataframe thead th {\n",
       "        text-align: right;\n",
       "    }\n",
       "</style>\n",
       "<table border=\"1\" class=\"dataframe\">\n",
       "  <thead>\n",
       "    <tr style=\"text-align: right;\">\n",
       "      <th></th>\n",
       "      <th>cg00000029</th>\n",
       "      <th>cg00000363</th>\n",
       "      <th>cg00001249</th>\n",
       "      <th>cg00001269</th>\n",
       "      <th>cg00001583</th>\n",
       "      <th>cg00001747</th>\n",
       "      <th>cg00001854</th>\n",
       "      <th>cg00001874</th>\n",
       "      <th>cg00002190</th>\n",
       "      <th>cg00002837</th>\n",
       "      <th>...</th>\n",
       "      <th>cg27662481</th>\n",
       "      <th>cg27662505</th>\n",
       "      <th>cg27663031</th>\n",
       "      <th>cg27663071</th>\n",
       "      <th>cg27663249</th>\n",
       "      <th>cg27664085</th>\n",
       "      <th>cg27664407</th>\n",
       "      <th>cg27664689</th>\n",
       "      <th>cg27664844</th>\n",
       "      <th>Phenotypes segregation</th>\n",
       "    </tr>\n",
       "  </thead>\n",
       "  <tbody>\n",
       "    <tr>\n",
       "      <th>GSM4056740</th>\n",
       "      <td>0.057635</td>\n",
       "      <td>0.354353</td>\n",
       "      <td>0.433972</td>\n",
       "      <td>0.688887</td>\n",
       "      <td>0.517182</td>\n",
       "      <td>0.225309</td>\n",
       "      <td>0.095196</td>\n",
       "      <td>0.106635</td>\n",
       "      <td>0.383397</td>\n",
       "      <td>0.212720</td>\n",
       "      <td>...</td>\n",
       "      <td>0.127098</td>\n",
       "      <td>0.215972</td>\n",
       "      <td>0.479048</td>\n",
       "      <td>0.088706</td>\n",
       "      <td>0.465241</td>\n",
       "      <td>0.339083</td>\n",
       "      <td>0.051594</td>\n",
       "      <td>0.445298</td>\n",
       "      <td>0.099585</td>\n",
       "      <td>1</td>\n",
       "    </tr>\n",
       "    <tr>\n",
       "      <th>GSM4056718</th>\n",
       "      <td>0.953871</td>\n",
       "      <td>0.091226</td>\n",
       "      <td>0.452134</td>\n",
       "      <td>0.022800</td>\n",
       "      <td>0.228642</td>\n",
       "      <td>0.039757</td>\n",
       "      <td>0.063718</td>\n",
       "      <td>0.067420</td>\n",
       "      <td>0.092946</td>\n",
       "      <td>0.878406</td>\n",
       "      <td>...</td>\n",
       "      <td>0.153379</td>\n",
       "      <td>0.013760</td>\n",
       "      <td>0.056495</td>\n",
       "      <td>0.602235</td>\n",
       "      <td>0.478752</td>\n",
       "      <td>0.062978</td>\n",
       "      <td>0.505023</td>\n",
       "      <td>0.551180</td>\n",
       "      <td>0.111583</td>\n",
       "      <td>1</td>\n",
       "    </tr>\n",
       "    <tr>\n",
       "      <th>GSM4056710</th>\n",
       "      <td>0.449693</td>\n",
       "      <td>0.534821</td>\n",
       "      <td>0.955026</td>\n",
       "      <td>0.030618</td>\n",
       "      <td>0.433832</td>\n",
       "      <td>0.445046</td>\n",
       "      <td>0.067303</td>\n",
       "      <td>0.050488</td>\n",
       "      <td>0.418031</td>\n",
       "      <td>0.888696</td>\n",
       "      <td>...</td>\n",
       "      <td>0.857789</td>\n",
       "      <td>0.022296</td>\n",
       "      <td>0.543724</td>\n",
       "      <td>0.068229</td>\n",
       "      <td>0.958582</td>\n",
       "      <td>0.952190</td>\n",
       "      <td>0.473541</td>\n",
       "      <td>0.965129</td>\n",
       "      <td>0.249649</td>\n",
       "      <td>1</td>\n",
       "    </tr>\n",
       "    <tr>\n",
       "      <th>GSM4056713</th>\n",
       "      <td>0.885077</td>\n",
       "      <td>0.383795</td>\n",
       "      <td>0.422111</td>\n",
       "      <td>0.085304</td>\n",
       "      <td>0.126704</td>\n",
       "      <td>0.767489</td>\n",
       "      <td>0.275319</td>\n",
       "      <td>0.517630</td>\n",
       "      <td>0.538155</td>\n",
       "      <td>0.101842</td>\n",
       "      <td>...</td>\n",
       "      <td>0.561696</td>\n",
       "      <td>0.018676</td>\n",
       "      <td>0.532568</td>\n",
       "      <td>0.475753</td>\n",
       "      <td>0.670928</td>\n",
       "      <td>0.215293</td>\n",
       "      <td>0.474573</td>\n",
       "      <td>0.046021</td>\n",
       "      <td>0.573963</td>\n",
       "      <td>1</td>\n",
       "    </tr>\n",
       "    <tr>\n",
       "      <th>GSM4056732</th>\n",
       "      <td>0.912686</td>\n",
       "      <td>0.514823</td>\n",
       "      <td>0.422171</td>\n",
       "      <td>0.028561</td>\n",
       "      <td>0.130650</td>\n",
       "      <td>0.101693</td>\n",
       "      <td>0.054404</td>\n",
       "      <td>0.526072</td>\n",
       "      <td>0.110791</td>\n",
       "      <td>0.143653</td>\n",
       "      <td>...</td>\n",
       "      <td>0.517030</td>\n",
       "      <td>0.279730</td>\n",
       "      <td>0.545570</td>\n",
       "      <td>0.505435</td>\n",
       "      <td>0.042741</td>\n",
       "      <td>0.499660</td>\n",
       "      <td>0.848134</td>\n",
       "      <td>0.519053</td>\n",
       "      <td>0.399340</td>\n",
       "      <td>1</td>\n",
       "    </tr>\n",
       "  </tbody>\n",
       "</table>\n",
       "<p>5 rows × 41432 columns</p>\n",
       "</div>"
      ],
      "text/plain": [
       "            cg00000029  cg00000363  cg00001249  cg00001269  cg00001583  \\\n",
       "GSM4056740    0.057635    0.354353    0.433972    0.688887    0.517182   \n",
       "GSM4056718    0.953871    0.091226    0.452134    0.022800    0.228642   \n",
       "GSM4056710    0.449693    0.534821    0.955026    0.030618    0.433832   \n",
       "GSM4056713    0.885077    0.383795    0.422111    0.085304    0.126704   \n",
       "GSM4056732    0.912686    0.514823    0.422171    0.028561    0.130650   \n",
       "\n",
       "            cg00001747  cg00001854  cg00001874  cg00002190  cg00002837  ...  \\\n",
       "GSM4056740    0.225309    0.095196    0.106635    0.383397    0.212720  ...   \n",
       "GSM4056718    0.039757    0.063718    0.067420    0.092946    0.878406  ...   \n",
       "GSM4056710    0.445046    0.067303    0.050488    0.418031    0.888696  ...   \n",
       "GSM4056713    0.767489    0.275319    0.517630    0.538155    0.101842  ...   \n",
       "GSM4056732    0.101693    0.054404    0.526072    0.110791    0.143653  ...   \n",
       "\n",
       "            cg27662481  cg27662505  cg27663031  cg27663071  cg27663249  \\\n",
       "GSM4056740    0.127098    0.215972    0.479048    0.088706    0.465241   \n",
       "GSM4056718    0.153379    0.013760    0.056495    0.602235    0.478752   \n",
       "GSM4056710    0.857789    0.022296    0.543724    0.068229    0.958582   \n",
       "GSM4056713    0.561696    0.018676    0.532568    0.475753    0.670928   \n",
       "GSM4056732    0.517030    0.279730    0.545570    0.505435    0.042741   \n",
       "\n",
       "            cg27664085  cg27664407  cg27664689  cg27664844  \\\n",
       "GSM4056740    0.339083    0.051594    0.445298    0.099585   \n",
       "GSM4056718    0.062978    0.505023    0.551180    0.111583   \n",
       "GSM4056710    0.952190    0.473541    0.965129    0.249649   \n",
       "GSM4056713    0.215293    0.474573    0.046021    0.573963   \n",
       "GSM4056732    0.499660    0.848134    0.519053    0.399340   \n",
       "\n",
       "            Phenotypes segregation  \n",
       "GSM4056740                       1  \n",
       "GSM4056718                       1  \n",
       "GSM4056710                       1  \n",
       "GSM4056713                       1  \n",
       "GSM4056732                       1  \n",
       "\n",
       "[5 rows x 41432 columns]"
      ]
     },
     "execution_count": 60,
     "metadata": {},
     "output_type": "execute_result"
    }
   ],
   "source": [
    "data_values.head()"
   ]
  },
  {
   "cell_type": "code",
   "execution_count": 61,
   "metadata": {
    "ExecuteTime": {
     "end_time": "2020-09-22T14:58:12.129764Z",
     "start_time": "2020-09-22T14:58:11.253059Z"
    }
   },
   "outputs": [],
   "source": [
    "data_values = data_values.T"
   ]
  },
  {
   "cell_type": "code",
   "execution_count": 62,
   "metadata": {
    "ExecuteTime": {
     "end_time": "2020-09-22T14:58:18.105667Z",
     "start_time": "2020-09-22T14:58:14.535379Z"
    }
   },
   "outputs": [],
   "source": [
    "data_values.to_csv(\"Data/processed/IGHV_2_classes-clustered_KM.csv\")"
   ]
  }
 ],
 "metadata": {
  "kernelspec": {
   "display_name": "Python 3",
   "language": "python",
   "name": "python3"
  },
  "language_info": {
   "codemirror_mode": {
    "name": "ipython",
    "version": 3
   },
   "file_extension": ".py",
   "mimetype": "text/x-python",
   "name": "python",
   "nbconvert_exporter": "python",
   "pygments_lexer": "ipython3",
   "version": "3.7.6"
  },
  "toc": {
   "base_numbering": 1,
   "nav_menu": {},
   "number_sections": true,
   "sideBar": true,
   "skip_h1_title": false,
   "title_cell": "Table of Contents",
   "title_sidebar": "Contents",
   "toc_cell": false,
   "toc_position": {},
   "toc_section_display": true,
   "toc_window_display": false
  },
  "varInspector": {
   "cols": {
    "lenName": 16,
    "lenType": 16,
    "lenVar": 40
   },
   "kernels_config": {
    "python": {
     "delete_cmd_postfix": "",
     "delete_cmd_prefix": "del ",
     "library": "var_list.py",
     "varRefreshCmd": "print(var_dic_list())"
    },
    "r": {
     "delete_cmd_postfix": ") ",
     "delete_cmd_prefix": "rm(",
     "library": "var_list.r",
     "varRefreshCmd": "cat(var_dic_list()) "
    }
   },
   "types_to_exclude": [
    "module",
    "function",
    "builtin_function_or_method",
    "instance",
    "_Feature"
   ],
   "window_display": false
  }
 },
 "nbformat": 4,
 "nbformat_minor": 4
}
