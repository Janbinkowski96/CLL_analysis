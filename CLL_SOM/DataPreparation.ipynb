{
 "cells": [
  {
   "cell_type": "code",
   "execution_count": 1,
   "metadata": {
    "ExecuteTime": {
     "end_time": "2020-09-21T23:53:30.746426Z",
     "start_time": "2020-09-21T23:53:30.430700Z"
    }
   },
   "outputs": [],
   "source": [
    "import pandas as pd\n",
    "import numpy as np"
   ]
  },
  {
   "cell_type": "code",
   "execution_count": 2,
   "metadata": {
    "ExecuteTime": {
     "end_time": "2020-09-21T23:53:40.089808Z",
     "start_time": "2020-09-21T23:53:34.464442Z"
    }
   },
   "outputs": [],
   "source": [
    "in_data = pd.read_csv(\"Data/raw/ighv_98_72_samples.csv\", index_col=0).T\n",
    "features_data = in_data.drop(\"Phenotypes segregation\", axis=1)"
   ]
  },
  {
   "cell_type": "code",
   "execution_count": 3,
   "metadata": {
    "ExecuteTime": {
     "end_time": "2020-09-21T23:54:46.904421Z",
     "start_time": "2020-09-21T23:54:46.889934Z"
    }
   },
   "outputs": [
    {
     "data": {
      "text/plain": [
       "(72, 377777)"
      ]
     },
     "execution_count": 3,
     "metadata": {},
     "output_type": "execute_result"
    }
   ],
   "source": [
    "features_data.shape"
   ]
  },
  {
   "cell_type": "code",
   "execution_count": 4,
   "metadata": {
    "ExecuteTime": {
     "end_time": "2020-09-21T23:55:22.367827Z",
     "start_time": "2020-09-21T23:55:22.363290Z"
    }
   },
   "outputs": [],
   "source": [
    "def var(col):\n",
    "    v = np.var(col)\n",
    "    if v < 0.05:\n",
    "        return False\n",
    "    else:\n",
    "        return True"
   ]
  },
  {
   "cell_type": "code",
   "execution_count": 5,
   "metadata": {
    "ExecuteTime": {
     "end_time": "2020-09-21T23:56:05.443822Z",
     "start_time": "2020-09-21T23:55:56.781741Z"
    }
   },
   "outputs": [],
   "source": [
    "mask = np.apply_along_axis(var, axis=0, arr=features_data.values) "
   ]
  },
  {
   "cell_type": "code",
   "execution_count": 6,
   "metadata": {
    "ExecuteTime": {
     "end_time": "2020-09-21T23:56:39.686453Z",
     "start_time": "2020-09-21T23:56:39.618919Z"
    }
   },
   "outputs": [
    {
     "data": {
      "text/plain": [
       "(72, 41431)"
      ]
     },
     "execution_count": 6,
     "metadata": {},
     "output_type": "execute_result"
    }
   ],
   "source": [
    "filtered_data = features_data.loc[:, mask]\n",
    "filtered_data.shape"
   ]
  },
  {
   "cell_type": "code",
   "execution_count": 7,
   "metadata": {
    "ExecuteTime": {
     "end_time": "2020-09-21T23:57:19.070714Z",
     "start_time": "2020-09-21T23:57:19.036895Z"
    }
   },
   "outputs": [
    {
     "data": {
      "text/html": [
       "<div>\n",
       "<style scoped>\n",
       "    .dataframe tbody tr th:only-of-type {\n",
       "        vertical-align: middle;\n",
       "    }\n",
       "\n",
       "    .dataframe tbody tr th {\n",
       "        vertical-align: top;\n",
       "    }\n",
       "\n",
       "    .dataframe thead th {\n",
       "        text-align: right;\n",
       "    }\n",
       "</style>\n",
       "<table border=\"1\" class=\"dataframe\">\n",
       "  <thead>\n",
       "    <tr style=\"text-align: right;\">\n",
       "      <th></th>\n",
       "      <th>cg00000029</th>\n",
       "      <th>cg00000363</th>\n",
       "      <th>cg00001249</th>\n",
       "      <th>cg00001269</th>\n",
       "      <th>cg00001583</th>\n",
       "      <th>cg00001747</th>\n",
       "      <th>cg00001854</th>\n",
       "      <th>cg00001874</th>\n",
       "      <th>cg00002190</th>\n",
       "      <th>cg00002837</th>\n",
       "      <th>...</th>\n",
       "      <th>cg27661104</th>\n",
       "      <th>cg27662481</th>\n",
       "      <th>cg27662505</th>\n",
       "      <th>cg27663031</th>\n",
       "      <th>cg27663071</th>\n",
       "      <th>cg27663249</th>\n",
       "      <th>cg27664085</th>\n",
       "      <th>cg27664407</th>\n",
       "      <th>cg27664689</th>\n",
       "      <th>cg27664844</th>\n",
       "    </tr>\n",
       "  </thead>\n",
       "  <tbody>\n",
       "    <tr>\n",
       "      <th>GSM4056740</th>\n",
       "      <td>0.057635</td>\n",
       "      <td>0.354353</td>\n",
       "      <td>0.433972</td>\n",
       "      <td>0.688887</td>\n",
       "      <td>0.517182</td>\n",
       "      <td>0.225309</td>\n",
       "      <td>0.095196</td>\n",
       "      <td>0.106635</td>\n",
       "      <td>0.383397</td>\n",
       "      <td>0.212720</td>\n",
       "      <td>...</td>\n",
       "      <td>0.537107</td>\n",
       "      <td>0.127098</td>\n",
       "      <td>0.215972</td>\n",
       "      <td>0.479048</td>\n",
       "      <td>0.088706</td>\n",
       "      <td>0.465241</td>\n",
       "      <td>0.339083</td>\n",
       "      <td>0.051594</td>\n",
       "      <td>0.445298</td>\n",
       "      <td>0.099585</td>\n",
       "    </tr>\n",
       "    <tr>\n",
       "      <th>GSM4056718</th>\n",
       "      <td>0.953871</td>\n",
       "      <td>0.091226</td>\n",
       "      <td>0.452134</td>\n",
       "      <td>0.022800</td>\n",
       "      <td>0.228642</td>\n",
       "      <td>0.039757</td>\n",
       "      <td>0.063718</td>\n",
       "      <td>0.067420</td>\n",
       "      <td>0.092946</td>\n",
       "      <td>0.878406</td>\n",
       "      <td>...</td>\n",
       "      <td>0.026241</td>\n",
       "      <td>0.153379</td>\n",
       "      <td>0.013760</td>\n",
       "      <td>0.056495</td>\n",
       "      <td>0.602235</td>\n",
       "      <td>0.478752</td>\n",
       "      <td>0.062978</td>\n",
       "      <td>0.505023</td>\n",
       "      <td>0.551180</td>\n",
       "      <td>0.111583</td>\n",
       "    </tr>\n",
       "    <tr>\n",
       "      <th>GSM4056710</th>\n",
       "      <td>0.449693</td>\n",
       "      <td>0.534821</td>\n",
       "      <td>0.955026</td>\n",
       "      <td>0.030618</td>\n",
       "      <td>0.433832</td>\n",
       "      <td>0.445046</td>\n",
       "      <td>0.067303</td>\n",
       "      <td>0.050488</td>\n",
       "      <td>0.418031</td>\n",
       "      <td>0.888696</td>\n",
       "      <td>...</td>\n",
       "      <td>0.112542</td>\n",
       "      <td>0.857789</td>\n",
       "      <td>0.022296</td>\n",
       "      <td>0.543724</td>\n",
       "      <td>0.068229</td>\n",
       "      <td>0.958581</td>\n",
       "      <td>0.952190</td>\n",
       "      <td>0.473541</td>\n",
       "      <td>0.965129</td>\n",
       "      <td>0.249649</td>\n",
       "    </tr>\n",
       "    <tr>\n",
       "      <th>GSM4056713</th>\n",
       "      <td>0.885077</td>\n",
       "      <td>0.383795</td>\n",
       "      <td>0.422111</td>\n",
       "      <td>0.085304</td>\n",
       "      <td>0.126704</td>\n",
       "      <td>0.767489</td>\n",
       "      <td>0.275319</td>\n",
       "      <td>0.517630</td>\n",
       "      <td>0.538155</td>\n",
       "      <td>0.101842</td>\n",
       "      <td>...</td>\n",
       "      <td>0.882050</td>\n",
       "      <td>0.561696</td>\n",
       "      <td>0.018676</td>\n",
       "      <td>0.532568</td>\n",
       "      <td>0.475753</td>\n",
       "      <td>0.670928</td>\n",
       "      <td>0.215293</td>\n",
       "      <td>0.474573</td>\n",
       "      <td>0.046021</td>\n",
       "      <td>0.573963</td>\n",
       "    </tr>\n",
       "    <tr>\n",
       "      <th>GSM4056732</th>\n",
       "      <td>0.912686</td>\n",
       "      <td>0.514823</td>\n",
       "      <td>0.422171</td>\n",
       "      <td>0.028561</td>\n",
       "      <td>0.130650</td>\n",
       "      <td>0.101693</td>\n",
       "      <td>0.054404</td>\n",
       "      <td>0.526072</td>\n",
       "      <td>0.110791</td>\n",
       "      <td>0.143653</td>\n",
       "      <td>...</td>\n",
       "      <td>0.141594</td>\n",
       "      <td>0.517030</td>\n",
       "      <td>0.279730</td>\n",
       "      <td>0.545570</td>\n",
       "      <td>0.505435</td>\n",
       "      <td>0.042741</td>\n",
       "      <td>0.499661</td>\n",
       "      <td>0.848134</td>\n",
       "      <td>0.519053</td>\n",
       "      <td>0.399340</td>\n",
       "    </tr>\n",
       "  </tbody>\n",
       "</table>\n",
       "<p>5 rows × 41431 columns</p>\n",
       "</div>"
      ],
      "text/plain": [
       "            cg00000029  cg00000363  cg00001249  cg00001269  cg00001583  \\\n",
       "GSM4056740    0.057635    0.354353    0.433972    0.688887    0.517182   \n",
       "GSM4056718    0.953871    0.091226    0.452134    0.022800    0.228642   \n",
       "GSM4056710    0.449693    0.534821    0.955026    0.030618    0.433832   \n",
       "GSM4056713    0.885077    0.383795    0.422111    0.085304    0.126704   \n",
       "GSM4056732    0.912686    0.514823    0.422171    0.028561    0.130650   \n",
       "\n",
       "            cg00001747  cg00001854  cg00001874  cg00002190  cg00002837  ...  \\\n",
       "GSM4056740    0.225309    0.095196    0.106635    0.383397    0.212720  ...   \n",
       "GSM4056718    0.039757    0.063718    0.067420    0.092946    0.878406  ...   \n",
       "GSM4056710    0.445046    0.067303    0.050488    0.418031    0.888696  ...   \n",
       "GSM4056713    0.767489    0.275319    0.517630    0.538155    0.101842  ...   \n",
       "GSM4056732    0.101693    0.054404    0.526072    0.110791    0.143653  ...   \n",
       "\n",
       "            cg27661104  cg27662481  cg27662505  cg27663031  cg27663071  \\\n",
       "GSM4056740    0.537107    0.127098    0.215972    0.479048    0.088706   \n",
       "GSM4056718    0.026241    0.153379    0.013760    0.056495    0.602235   \n",
       "GSM4056710    0.112542    0.857789    0.022296    0.543724    0.068229   \n",
       "GSM4056713    0.882050    0.561696    0.018676    0.532568    0.475753   \n",
       "GSM4056732    0.141594    0.517030    0.279730    0.545570    0.505435   \n",
       "\n",
       "            cg27663249  cg27664085  cg27664407  cg27664689  cg27664844  \n",
       "GSM4056740    0.465241    0.339083    0.051594    0.445298    0.099585  \n",
       "GSM4056718    0.478752    0.062978    0.505023    0.551180    0.111583  \n",
       "GSM4056710    0.958581    0.952190    0.473541    0.965129    0.249649  \n",
       "GSM4056713    0.670928    0.215293    0.474573    0.046021    0.573963  \n",
       "GSM4056732    0.042741    0.499661    0.848134    0.519053    0.399340  \n",
       "\n",
       "[5 rows x 41431 columns]"
      ]
     },
     "execution_count": 7,
     "metadata": {},
     "output_type": "execute_result"
    }
   ],
   "source": [
    "filtered_data.head()"
   ]
  },
  {
   "cell_type": "code",
   "execution_count": 8,
   "metadata": {
    "ExecuteTime": {
     "end_time": "2020-09-21T23:57:57.667952Z",
     "start_time": "2020-09-21T23:57:57.634394Z"
    }
   },
   "outputs": [],
   "source": [
    "prepared_data = pd.concat((in_data[\"Phenotypes segregation\"], filtered_data), axis=1)"
   ]
  },
  {
   "cell_type": "code",
   "execution_count": 9,
   "metadata": {
    "ExecuteTime": {
     "end_time": "2020-09-21T23:58:39.414087Z",
     "start_time": "2020-09-21T23:58:39.388672Z"
    },
    "scrolled": true
   },
   "outputs": [
    {
     "data": {
      "text/html": [
       "<div>\n",
       "<style scoped>\n",
       "    .dataframe tbody tr th:only-of-type {\n",
       "        vertical-align: middle;\n",
       "    }\n",
       "\n",
       "    .dataframe tbody tr th {\n",
       "        vertical-align: top;\n",
       "    }\n",
       "\n",
       "    .dataframe thead th {\n",
       "        text-align: right;\n",
       "    }\n",
       "</style>\n",
       "<table border=\"1\" class=\"dataframe\">\n",
       "  <thead>\n",
       "    <tr style=\"text-align: right;\">\n",
       "      <th></th>\n",
       "      <th>Phenotypes segregation</th>\n",
       "      <th>cg00000029</th>\n",
       "      <th>cg00000363</th>\n",
       "      <th>cg00001249</th>\n",
       "      <th>cg00001269</th>\n",
       "      <th>cg00001583</th>\n",
       "      <th>cg00001747</th>\n",
       "      <th>cg00001854</th>\n",
       "      <th>cg00001874</th>\n",
       "      <th>cg00002190</th>\n",
       "      <th>...</th>\n",
       "      <th>cg27661104</th>\n",
       "      <th>cg27662481</th>\n",
       "      <th>cg27662505</th>\n",
       "      <th>cg27663031</th>\n",
       "      <th>cg27663071</th>\n",
       "      <th>cg27663249</th>\n",
       "      <th>cg27664085</th>\n",
       "      <th>cg27664407</th>\n",
       "      <th>cg27664689</th>\n",
       "      <th>cg27664844</th>\n",
       "    </tr>\n",
       "  </thead>\n",
       "  <tbody>\n",
       "    <tr>\n",
       "      <th>GSM4056740</th>\n",
       "      <td>0.0</td>\n",
       "      <td>0.057635</td>\n",
       "      <td>0.354353</td>\n",
       "      <td>0.433972</td>\n",
       "      <td>0.688887</td>\n",
       "      <td>0.517182</td>\n",
       "      <td>0.225309</td>\n",
       "      <td>0.095196</td>\n",
       "      <td>0.106635</td>\n",
       "      <td>0.383397</td>\n",
       "      <td>...</td>\n",
       "      <td>0.537107</td>\n",
       "      <td>0.127098</td>\n",
       "      <td>0.215972</td>\n",
       "      <td>0.479048</td>\n",
       "      <td>0.088706</td>\n",
       "      <td>0.465241</td>\n",
       "      <td>0.339083</td>\n",
       "      <td>0.051594</td>\n",
       "      <td>0.445298</td>\n",
       "      <td>0.099585</td>\n",
       "    </tr>\n",
       "    <tr>\n",
       "      <th>GSM4056718</th>\n",
       "      <td>0.0</td>\n",
       "      <td>0.953871</td>\n",
       "      <td>0.091226</td>\n",
       "      <td>0.452134</td>\n",
       "      <td>0.022800</td>\n",
       "      <td>0.228642</td>\n",
       "      <td>0.039757</td>\n",
       "      <td>0.063718</td>\n",
       "      <td>0.067420</td>\n",
       "      <td>0.092946</td>\n",
       "      <td>...</td>\n",
       "      <td>0.026241</td>\n",
       "      <td>0.153379</td>\n",
       "      <td>0.013760</td>\n",
       "      <td>0.056495</td>\n",
       "      <td>0.602235</td>\n",
       "      <td>0.478752</td>\n",
       "      <td>0.062978</td>\n",
       "      <td>0.505023</td>\n",
       "      <td>0.551180</td>\n",
       "      <td>0.111583</td>\n",
       "    </tr>\n",
       "    <tr>\n",
       "      <th>GSM4056710</th>\n",
       "      <td>0.0</td>\n",
       "      <td>0.449693</td>\n",
       "      <td>0.534821</td>\n",
       "      <td>0.955026</td>\n",
       "      <td>0.030618</td>\n",
       "      <td>0.433832</td>\n",
       "      <td>0.445046</td>\n",
       "      <td>0.067303</td>\n",
       "      <td>0.050488</td>\n",
       "      <td>0.418031</td>\n",
       "      <td>...</td>\n",
       "      <td>0.112542</td>\n",
       "      <td>0.857789</td>\n",
       "      <td>0.022296</td>\n",
       "      <td>0.543724</td>\n",
       "      <td>0.068229</td>\n",
       "      <td>0.958581</td>\n",
       "      <td>0.952190</td>\n",
       "      <td>0.473541</td>\n",
       "      <td>0.965129</td>\n",
       "      <td>0.249649</td>\n",
       "    </tr>\n",
       "    <tr>\n",
       "      <th>GSM4056713</th>\n",
       "      <td>0.0</td>\n",
       "      <td>0.885077</td>\n",
       "      <td>0.383795</td>\n",
       "      <td>0.422111</td>\n",
       "      <td>0.085304</td>\n",
       "      <td>0.126704</td>\n",
       "      <td>0.767489</td>\n",
       "      <td>0.275319</td>\n",
       "      <td>0.517630</td>\n",
       "      <td>0.538155</td>\n",
       "      <td>...</td>\n",
       "      <td>0.882050</td>\n",
       "      <td>0.561696</td>\n",
       "      <td>0.018676</td>\n",
       "      <td>0.532568</td>\n",
       "      <td>0.475753</td>\n",
       "      <td>0.670928</td>\n",
       "      <td>0.215293</td>\n",
       "      <td>0.474573</td>\n",
       "      <td>0.046021</td>\n",
       "      <td>0.573963</td>\n",
       "    </tr>\n",
       "    <tr>\n",
       "      <th>GSM4056732</th>\n",
       "      <td>0.0</td>\n",
       "      <td>0.912686</td>\n",
       "      <td>0.514823</td>\n",
       "      <td>0.422171</td>\n",
       "      <td>0.028561</td>\n",
       "      <td>0.130650</td>\n",
       "      <td>0.101693</td>\n",
       "      <td>0.054404</td>\n",
       "      <td>0.526072</td>\n",
       "      <td>0.110791</td>\n",
       "      <td>...</td>\n",
       "      <td>0.141594</td>\n",
       "      <td>0.517030</td>\n",
       "      <td>0.279730</td>\n",
       "      <td>0.545570</td>\n",
       "      <td>0.505435</td>\n",
       "      <td>0.042741</td>\n",
       "      <td>0.499661</td>\n",
       "      <td>0.848134</td>\n",
       "      <td>0.519053</td>\n",
       "      <td>0.399340</td>\n",
       "    </tr>\n",
       "  </tbody>\n",
       "</table>\n",
       "<p>5 rows × 41432 columns</p>\n",
       "</div>"
      ],
      "text/plain": [
       "            Phenotypes segregation  cg00000029  cg00000363  cg00001249  \\\n",
       "GSM4056740                     0.0    0.057635    0.354353    0.433972   \n",
       "GSM4056718                     0.0    0.953871    0.091226    0.452134   \n",
       "GSM4056710                     0.0    0.449693    0.534821    0.955026   \n",
       "GSM4056713                     0.0    0.885077    0.383795    0.422111   \n",
       "GSM4056732                     0.0    0.912686    0.514823    0.422171   \n",
       "\n",
       "            cg00001269  cg00001583  cg00001747  cg00001854  cg00001874  \\\n",
       "GSM4056740    0.688887    0.517182    0.225309    0.095196    0.106635   \n",
       "GSM4056718    0.022800    0.228642    0.039757    0.063718    0.067420   \n",
       "GSM4056710    0.030618    0.433832    0.445046    0.067303    0.050488   \n",
       "GSM4056713    0.085304    0.126704    0.767489    0.275319    0.517630   \n",
       "GSM4056732    0.028561    0.130650    0.101693    0.054404    0.526072   \n",
       "\n",
       "            cg00002190  ...  cg27661104  cg27662481  cg27662505  cg27663031  \\\n",
       "GSM4056740    0.383397  ...    0.537107    0.127098    0.215972    0.479048   \n",
       "GSM4056718    0.092946  ...    0.026241    0.153379    0.013760    0.056495   \n",
       "GSM4056710    0.418031  ...    0.112542    0.857789    0.022296    0.543724   \n",
       "GSM4056713    0.538155  ...    0.882050    0.561696    0.018676    0.532568   \n",
       "GSM4056732    0.110791  ...    0.141594    0.517030    0.279730    0.545570   \n",
       "\n",
       "            cg27663071  cg27663249  cg27664085  cg27664407  cg27664689  \\\n",
       "GSM4056740    0.088706    0.465241    0.339083    0.051594    0.445298   \n",
       "GSM4056718    0.602235    0.478752    0.062978    0.505023    0.551180   \n",
       "GSM4056710    0.068229    0.958581    0.952190    0.473541    0.965129   \n",
       "GSM4056713    0.475753    0.670928    0.215293    0.474573    0.046021   \n",
       "GSM4056732    0.505435    0.042741    0.499661    0.848134    0.519053   \n",
       "\n",
       "            cg27664844  \n",
       "GSM4056740    0.099585  \n",
       "GSM4056718    0.111583  \n",
       "GSM4056710    0.249649  \n",
       "GSM4056713    0.573963  \n",
       "GSM4056732    0.399340  \n",
       "\n",
       "[5 rows x 41432 columns]"
      ]
     },
     "execution_count": 9,
     "metadata": {},
     "output_type": "execute_result"
    }
   ],
   "source": [
    "prepared_data.head()"
   ]
  },
  {
   "cell_type": "code",
   "execution_count": 10,
   "metadata": {
    "ExecuteTime": {
     "end_time": "2020-09-21T23:59:25.475234Z",
     "start_time": "2020-09-21T23:59:19.927104Z"
    }
   },
   "outputs": [],
   "source": [
    "prepared_data.to_csv(\"Data/processed/Prepared_ighv_data.csv\")"
   ]
  }
 ],
 "metadata": {
  "kernelspec": {
   "display_name": "Python 3",
   "language": "python",
   "name": "python3"
  },
  "language_info": {
   "codemirror_mode": {
    "name": "ipython",
    "version": 3
   },
   "file_extension": ".py",
   "mimetype": "text/x-python",
   "name": "python",
   "nbconvert_exporter": "python",
   "pygments_lexer": "ipython3",
   "version": "3.7.6"
  },
  "toc": {
   "base_numbering": 1,
   "nav_menu": {},
   "number_sections": true,
   "sideBar": true,
   "skip_h1_title": false,
   "title_cell": "Table of Contents",
   "title_sidebar": "Contents",
   "toc_cell": false,
   "toc_position": {},
   "toc_section_display": true,
   "toc_window_display": false
  },
  "varInspector": {
   "cols": {
    "lenName": 16,
    "lenType": 16,
    "lenVar": 40
   },
   "kernels_config": {
    "python": {
     "delete_cmd_postfix": "",
     "delete_cmd_prefix": "del ",
     "library": "var_list.py",
     "varRefreshCmd": "print(var_dic_list())"
    },
    "r": {
     "delete_cmd_postfix": ") ",
     "delete_cmd_prefix": "rm(",
     "library": "var_list.r",
     "varRefreshCmd": "cat(var_dic_list()) "
    }
   },
   "types_to_exclude": [
    "module",
    "function",
    "builtin_function_or_method",
    "instance",
    "_Feature"
   ],
   "window_display": false
  }
 },
 "nbformat": 4,
 "nbformat_minor": 4
}
