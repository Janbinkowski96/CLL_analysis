{
 "cells": [
  {
   "cell_type": "code",
   "execution_count": 1,
   "metadata": {
    "ExecuteTime": {
     "end_time": "2020-06-29T20:08:50.486066Z",
     "start_time": "2020-06-29T20:08:50.077829Z"
    }
   },
   "outputs": [],
   "source": [
    "import pandas as pd\n",
    "import numpy as np"
   ]
  },
  {
   "cell_type": "code",
   "execution_count": 2,
   "metadata": {
    "ExecuteTime": {
     "end_time": "2020-06-29T20:08:51.011716Z",
     "start_time": "2020-06-29T20:08:51.007111Z"
    }
   },
   "outputs": [],
   "source": [
    "def convert_to_categorical(data_frame):\n",
    "    columns = data_frame.columns.tolist()\n",
    "\n",
    "    for column in columns:\n",
    "        data_frame.loc[:, column] = data_frame[column].map(lambda value: round(value, 1))"
   ]
  },
  {
   "cell_type": "code",
   "execution_count": 3,
   "metadata": {
    "ExecuteTime": {
     "end_time": "2020-06-29T20:08:51.595193Z",
     "start_time": "2020-06-29T20:08:51.590114Z"
    }
   },
   "outputs": [],
   "source": [
    "def fill_na(data_frame):\n",
    "    columns = data_frame.columns.tolist()\n",
    "    cond = data_frame.isna().sum().any()\n",
    "    if cond:\n",
    "        for column in columns:\n",
    "            if data_frame[column].isna().any():\n",
    "                median = np.median(data_frame[column])\n",
    "                data_frame[column].fillna(by=median)"
   ]
  },
  {
   "cell_type": "code",
   "execution_count": 4,
   "metadata": {
    "ExecuteTime": {
     "end_time": "2020-06-29T20:08:52.131792Z",
     "start_time": "2020-06-29T20:08:52.126673Z"
    }
   },
   "outputs": [],
   "source": [
    "def variance_filtering(array):\n",
    "    var = np.apply_along_axis(np.var, axis=0, arr=array)\n",
    "    return var > 0"
   ]
  },
  {
   "cell_type": "code",
   "execution_count": 5,
   "metadata": {
    "ExecuteTime": {
     "end_time": "2020-06-29T20:09:01.160485Z",
     "start_time": "2020-06-29T20:08:53.148021Z"
    }
   },
   "outputs": [
    {
     "data": {
      "text/plain": [
       "(377791, 141)"
      ]
     },
     "execution_count": 5,
     "metadata": {},
     "output_type": "execute_result"
    }
   ],
   "source": [
    "cll = pd.read_csv(\"data/raw/Subset_CLL_healthy.csv\", index_col=0)\n",
    "cll.shape"
   ]
  },
  {
   "cell_type": "code",
   "execution_count": 6,
   "metadata": {
    "ExecuteTime": {
     "end_time": "2020-06-29T20:09:01.424701Z",
     "start_time": "2020-06-29T20:09:01.390417Z"
    }
   },
   "outputs": [
    {
     "data": {
      "text/plain": [
       "(141, 2)"
      ]
     },
     "execution_count": 6,
     "metadata": {},
     "output_type": "execute_result"
    }
   ],
   "source": [
    "table = pd.read_excel(\"data/raw/Table_info.xlsx\", index_col=0)\n",
    "table.shape"
   ]
  },
  {
   "cell_type": "code",
   "execution_count": 7,
   "metadata": {
    "ExecuteTime": {
     "end_time": "2020-06-29T20:09:01.752979Z",
     "start_time": "2020-06-29T20:09:01.712002Z"
    }
   },
   "outputs": [
    {
     "data": {
      "text/html": [
       "<div>\n",
       "<style scoped>\n",
       "    .dataframe tbody tr th:only-of-type {\n",
       "        vertical-align: middle;\n",
       "    }\n",
       "\n",
       "    .dataframe tbody tr th {\n",
       "        vertical-align: top;\n",
       "    }\n",
       "\n",
       "    .dataframe thead th {\n",
       "        text-align: right;\n",
       "    }\n",
       "</style>\n",
       "<table border=\"1\" class=\"dataframe\">\n",
       "  <thead>\n",
       "    <tr style=\"text-align: right;\">\n",
       "      <th></th>\n",
       "      <th>GSM3516780</th>\n",
       "      <th>GSM3516781</th>\n",
       "      <th>GSM3516782</th>\n",
       "      <th>GSM3516783</th>\n",
       "      <th>GSM3516784</th>\n",
       "      <th>GSM3516785</th>\n",
       "      <th>GSM3516786</th>\n",
       "      <th>GSM3516787</th>\n",
       "      <th>GSM3516788</th>\n",
       "      <th>GSM3516789</th>\n",
       "      <th>...</th>\n",
       "      <th>GSM4056754</th>\n",
       "      <th>GSM4056755</th>\n",
       "      <th>GSM4056756</th>\n",
       "      <th>GSM4056759</th>\n",
       "      <th>GSM4056760</th>\n",
       "      <th>GSM4056762</th>\n",
       "      <th>GSM4056765</th>\n",
       "      <th>GSM4056766</th>\n",
       "      <th>GSM4056767</th>\n",
       "      <th>GSM4056768</th>\n",
       "    </tr>\n",
       "  </thead>\n",
       "  <tbody>\n",
       "    <tr>\n",
       "      <th>cg00000029</th>\n",
       "      <td>0.391044</td>\n",
       "      <td>0.418785</td>\n",
       "      <td>0.395356</td>\n",
       "      <td>0.381291</td>\n",
       "      <td>0.407951</td>\n",
       "      <td>0.502557</td>\n",
       "      <td>0.395726</td>\n",
       "      <td>0.473019</td>\n",
       "      <td>0.416764</td>\n",
       "      <td>0.544809</td>\n",
       "      <td>...</td>\n",
       "      <td>0.836975</td>\n",
       "      <td>0.859731</td>\n",
       "      <td>0.947987</td>\n",
       "      <td>0.619287</td>\n",
       "      <td>0.907105</td>\n",
       "      <td>0.835069</td>\n",
       "      <td>0.834935</td>\n",
       "      <td>0.369190</td>\n",
       "      <td>0.373798</td>\n",
       "      <td>0.525558</td>\n",
       "    </tr>\n",
       "    <tr>\n",
       "      <th>cg00000109</th>\n",
       "      <td>0.944940</td>\n",
       "      <td>0.972309</td>\n",
       "      <td>0.958343</td>\n",
       "      <td>0.952636</td>\n",
       "      <td>0.933867</td>\n",
       "      <td>0.952705</td>\n",
       "      <td>0.960620</td>\n",
       "      <td>0.958447</td>\n",
       "      <td>0.939295</td>\n",
       "      <td>0.957803</td>\n",
       "      <td>...</td>\n",
       "      <td>0.914387</td>\n",
       "      <td>0.924648</td>\n",
       "      <td>0.920270</td>\n",
       "      <td>0.543636</td>\n",
       "      <td>0.925531</td>\n",
       "      <td>0.938895</td>\n",
       "      <td>0.912340</td>\n",
       "      <td>0.919451</td>\n",
       "      <td>0.891999</td>\n",
       "      <td>0.926930</td>\n",
       "    </tr>\n",
       "    <tr>\n",
       "      <th>cg00000165</th>\n",
       "      <td>0.168399</td>\n",
       "      <td>0.178850</td>\n",
       "      <td>0.105140</td>\n",
       "      <td>0.077278</td>\n",
       "      <td>0.091846</td>\n",
       "      <td>0.116646</td>\n",
       "      <td>0.183579</td>\n",
       "      <td>0.110159</td>\n",
       "      <td>0.104638</td>\n",
       "      <td>0.122046</td>\n",
       "      <td>...</td>\n",
       "      <td>0.526013</td>\n",
       "      <td>0.415611</td>\n",
       "      <td>0.159583</td>\n",
       "      <td>0.151504</td>\n",
       "      <td>0.127370</td>\n",
       "      <td>0.256970</td>\n",
       "      <td>0.131953</td>\n",
       "      <td>0.383655</td>\n",
       "      <td>0.140984</td>\n",
       "      <td>0.110868</td>\n",
       "    </tr>\n",
       "    <tr>\n",
       "      <th>cg00000236</th>\n",
       "      <td>0.785584</td>\n",
       "      <td>0.809741</td>\n",
       "      <td>0.756320</td>\n",
       "      <td>0.743590</td>\n",
       "      <td>0.755508</td>\n",
       "      <td>0.810732</td>\n",
       "      <td>0.773841</td>\n",
       "      <td>0.778512</td>\n",
       "      <td>0.707400</td>\n",
       "      <td>0.746812</td>\n",
       "      <td>...</td>\n",
       "      <td>0.945938</td>\n",
       "      <td>0.909755</td>\n",
       "      <td>0.860567</td>\n",
       "      <td>0.921357</td>\n",
       "      <td>0.919216</td>\n",
       "      <td>0.894677</td>\n",
       "      <td>0.877624</td>\n",
       "      <td>0.936717</td>\n",
       "      <td>0.952950</td>\n",
       "      <td>0.464696</td>\n",
       "    </tr>\n",
       "    <tr>\n",
       "      <th>cg00000289</th>\n",
       "      <td>0.777683</td>\n",
       "      <td>0.739181</td>\n",
       "      <td>0.766035</td>\n",
       "      <td>0.904918</td>\n",
       "      <td>0.865612</td>\n",
       "      <td>0.891836</td>\n",
       "      <td>0.870348</td>\n",
       "      <td>0.805715</td>\n",
       "      <td>0.939223</td>\n",
       "      <td>0.960015</td>\n",
       "      <td>...</td>\n",
       "      <td>0.570014</td>\n",
       "      <td>0.672622</td>\n",
       "      <td>0.624529</td>\n",
       "      <td>0.373654</td>\n",
       "      <td>0.484350</td>\n",
       "      <td>0.686215</td>\n",
       "      <td>0.463467</td>\n",
       "      <td>0.650734</td>\n",
       "      <td>0.514229</td>\n",
       "      <td>0.585756</td>\n",
       "    </tr>\n",
       "  </tbody>\n",
       "</table>\n",
       "<p>5 rows × 141 columns</p>\n",
       "</div>"
      ],
      "text/plain": [
       "            GSM3516780  GSM3516781  GSM3516782  GSM3516783  GSM3516784  \\\n",
       "cg00000029    0.391044    0.418785    0.395356    0.381291    0.407951   \n",
       "cg00000109    0.944940    0.972309    0.958343    0.952636    0.933867   \n",
       "cg00000165    0.168399    0.178850    0.105140    0.077278    0.091846   \n",
       "cg00000236    0.785584    0.809741    0.756320    0.743590    0.755508   \n",
       "cg00000289    0.777683    0.739181    0.766035    0.904918    0.865612   \n",
       "\n",
       "            GSM3516785  GSM3516786  GSM3516787  GSM3516788  GSM3516789  ...  \\\n",
       "cg00000029    0.502557    0.395726    0.473019    0.416764    0.544809  ...   \n",
       "cg00000109    0.952705    0.960620    0.958447    0.939295    0.957803  ...   \n",
       "cg00000165    0.116646    0.183579    0.110159    0.104638    0.122046  ...   \n",
       "cg00000236    0.810732    0.773841    0.778512    0.707400    0.746812  ...   \n",
       "cg00000289    0.891836    0.870348    0.805715    0.939223    0.960015  ...   \n",
       "\n",
       "            GSM4056754  GSM4056755  GSM4056756  GSM4056759  GSM4056760  \\\n",
       "cg00000029    0.836975    0.859731    0.947987    0.619287    0.907105   \n",
       "cg00000109    0.914387    0.924648    0.920270    0.543636    0.925531   \n",
       "cg00000165    0.526013    0.415611    0.159583    0.151504    0.127370   \n",
       "cg00000236    0.945938    0.909755    0.860567    0.921357    0.919216   \n",
       "cg00000289    0.570014    0.672622    0.624529    0.373654    0.484350   \n",
       "\n",
       "            GSM4056762  GSM4056765  GSM4056766  GSM4056767  GSM4056768  \n",
       "cg00000029    0.835069    0.834935    0.369190    0.373798    0.525558  \n",
       "cg00000109    0.938895    0.912340    0.919451    0.891999    0.926930  \n",
       "cg00000165    0.256970    0.131953    0.383655    0.140984    0.110868  \n",
       "cg00000236    0.894677    0.877624    0.936717    0.952950    0.464696  \n",
       "cg00000289    0.686215    0.463467    0.650734    0.514229    0.585756  \n",
       "\n",
       "[5 rows x 141 columns]"
      ]
     },
     "execution_count": 7,
     "metadata": {},
     "output_type": "execute_result"
    }
   ],
   "source": [
    "cll.head()"
   ]
  },
  {
   "cell_type": "code",
   "execution_count": 8,
   "metadata": {
    "ExecuteTime": {
     "end_time": "2020-06-29T20:09:02.090905Z",
     "start_time": "2020-06-29T20:09:02.075214Z"
    }
   },
   "outputs": [
    {
     "data": {
      "text/html": [
       "<div>\n",
       "<style scoped>\n",
       "    .dataframe tbody tr th:only-of-type {\n",
       "        vertical-align: middle;\n",
       "    }\n",
       "\n",
       "    .dataframe tbody tr th {\n",
       "        vertical-align: top;\n",
       "    }\n",
       "\n",
       "    .dataframe thead th {\n",
       "        text-align: right;\n",
       "    }\n",
       "</style>\n",
       "<table border=\"1\" class=\"dataframe\">\n",
       "  <thead>\n",
       "    <tr style=\"text-align: right;\">\n",
       "      <th></th>\n",
       "      <th>IGHV_100</th>\n",
       "      <th>healthy_disease</th>\n",
       "    </tr>\n",
       "    <tr>\n",
       "      <th>Sample_name</th>\n",
       "      <th></th>\n",
       "      <th></th>\n",
       "    </tr>\n",
       "  </thead>\n",
       "  <tbody>\n",
       "    <tr>\n",
       "      <th>GSM4056740</th>\n",
       "      <td>0.0</td>\n",
       "      <td>D</td>\n",
       "    </tr>\n",
       "    <tr>\n",
       "      <th>GSM4056718</th>\n",
       "      <td>0.0</td>\n",
       "      <td>D</td>\n",
       "    </tr>\n",
       "    <tr>\n",
       "      <th>GSM4056710</th>\n",
       "      <td>0.0</td>\n",
       "      <td>D</td>\n",
       "    </tr>\n",
       "    <tr>\n",
       "      <th>GSM4056713</th>\n",
       "      <td>0.0</td>\n",
       "      <td>D</td>\n",
       "    </tr>\n",
       "    <tr>\n",
       "      <th>GSM4056732</th>\n",
       "      <td>0.0</td>\n",
       "      <td>D</td>\n",
       "    </tr>\n",
       "  </tbody>\n",
       "</table>\n",
       "</div>"
      ],
      "text/plain": [
       "             IGHV_100 healthy_disease\n",
       "Sample_name                          \n",
       "GSM4056740        0.0               D\n",
       "GSM4056718        0.0               D\n",
       "GSM4056710        0.0               D\n",
       "GSM4056713        0.0               D\n",
       "GSM4056732        0.0               D"
      ]
     },
     "execution_count": 8,
     "metadata": {},
     "output_type": "execute_result"
    }
   ],
   "source": [
    "table.head()"
   ]
  },
  {
   "cell_type": "code",
   "execution_count": 9,
   "metadata": {
    "ExecuteTime": {
     "end_time": "2020-06-29T20:09:02.385389Z",
     "start_time": "2020-06-29T20:09:02.373521Z"
    }
   },
   "outputs": [
    {
     "data": {
      "text/plain": [
       "D    72\n",
       "H    69\n",
       "Name: healthy_disease, dtype: int64"
      ]
     },
     "execution_count": 9,
     "metadata": {},
     "output_type": "execute_result"
    }
   ],
   "source": [
    "table[\"healthy_disease\"].value_counts()"
   ]
  },
  {
   "cell_type": "code",
   "execution_count": 10,
   "metadata": {
    "ExecuteTime": {
     "end_time": "2020-06-29T20:09:02.687721Z",
     "start_time": "2020-06-29T20:09:02.679377Z"
    }
   },
   "outputs": [],
   "source": [
    "cll = cll.transpose()"
   ]
  },
  {
   "cell_type": "code",
   "execution_count": 11,
   "metadata": {
    "ExecuteTime": {
     "end_time": "2020-06-29T20:15:29.821551Z",
     "start_time": "2020-06-29T20:10:11.537572Z"
    }
   },
   "outputs": [],
   "source": [
    "convert_to_categorical(cll)"
   ]
  },
  {
   "cell_type": "code",
   "execution_count": 12,
   "metadata": {
    "ExecuteTime": {
     "end_time": "2020-06-29T20:20:09.787085Z",
     "start_time": "2020-06-29T20:19:55.102234Z"
    }
   },
   "outputs": [],
   "source": [
    "selected_columns = variance_filtering(cll.values)\n",
    "cll = cll.loc[:, selected_columns]"
   ]
  },
  {
   "cell_type": "code",
   "execution_count": 13,
   "metadata": {
    "ExecuteTime": {
     "end_time": "2020-06-29T20:35:32.405840Z",
     "start_time": "2020-06-29T20:35:32.399103Z"
    }
   },
   "outputs": [
    {
     "data": {
      "text/plain": [
       "(141, 351989)"
      ]
     },
     "execution_count": 13,
     "metadata": {},
     "output_type": "execute_result"
    }
   ],
   "source": [
    "cll.shape"
   ]
  },
  {
   "cell_type": "code",
   "execution_count": 14,
   "metadata": {
    "ExecuteTime": {
     "end_time": "2020-06-29T20:36:17.806135Z",
     "start_time": "2020-06-29T20:36:17.561422Z"
    }
   },
   "outputs": [],
   "source": [
    "fill_na(cll)"
   ]
  },
  {
   "cell_type": "code",
   "execution_count": 18,
   "metadata": {
    "ExecuteTime": {
     "end_time": "2020-06-29T20:43:27.153843Z",
     "start_time": "2020-06-29T20:43:27.083694Z"
    }
   },
   "outputs": [
    {
     "data": {
      "text/html": [
       "<div>\n",
       "<style scoped>\n",
       "    .dataframe tbody tr th:only-of-type {\n",
       "        vertical-align: middle;\n",
       "    }\n",
       "\n",
       "    .dataframe tbody tr th {\n",
       "        vertical-align: top;\n",
       "    }\n",
       "\n",
       "    .dataframe thead th {\n",
       "        text-align: right;\n",
       "    }\n",
       "</style>\n",
       "<table border=\"1\" class=\"dataframe\">\n",
       "  <thead>\n",
       "    <tr style=\"text-align: right;\">\n",
       "      <th></th>\n",
       "      <th>cg00000029</th>\n",
       "      <th>cg00000109</th>\n",
       "      <th>cg00000165</th>\n",
       "      <th>cg00000236</th>\n",
       "      <th>cg00000289</th>\n",
       "      <th>cg00000292</th>\n",
       "      <th>cg00000321</th>\n",
       "      <th>cg00000363</th>\n",
       "      <th>cg00000658</th>\n",
       "      <th>cg00000714</th>\n",
       "      <th>...</th>\n",
       "      <th>cg27665715</th>\n",
       "      <th>cg27665754</th>\n",
       "      <th>cg27665767</th>\n",
       "      <th>cg27665769</th>\n",
       "      <th>cg27665829</th>\n",
       "      <th>cg27665860</th>\n",
       "      <th>cg27665925</th>\n",
       "      <th>cg27665985</th>\n",
       "      <th>cg27666046</th>\n",
       "      <th>cg27666123</th>\n",
       "    </tr>\n",
       "  </thead>\n",
       "  <tbody>\n",
       "    <tr>\n",
       "      <th>GSM3516780</th>\n",
       "      <td>0.4</td>\n",
       "      <td>0.9</td>\n",
       "      <td>0.2</td>\n",
       "      <td>0.8</td>\n",
       "      <td>0.8</td>\n",
       "      <td>0.9</td>\n",
       "      <td>0.2</td>\n",
       "      <td>0.3</td>\n",
       "      <td>0.9</td>\n",
       "      <td>0.1</td>\n",
       "      <td>...</td>\n",
       "      <td>1.0</td>\n",
       "      <td>0.8</td>\n",
       "      <td>0.4</td>\n",
       "      <td>0.2</td>\n",
       "      <td>0.9</td>\n",
       "      <td>1.0</td>\n",
       "      <td>0.0</td>\n",
       "      <td>0.2</td>\n",
       "      <td>0.6</td>\n",
       "      <td>0.9</td>\n",
       "    </tr>\n",
       "    <tr>\n",
       "      <th>GSM3516781</th>\n",
       "      <td>0.4</td>\n",
       "      <td>1.0</td>\n",
       "      <td>0.2</td>\n",
       "      <td>0.8</td>\n",
       "      <td>0.7</td>\n",
       "      <td>0.9</td>\n",
       "      <td>0.2</td>\n",
       "      <td>0.3</td>\n",
       "      <td>0.9</td>\n",
       "      <td>0.1</td>\n",
       "      <td>...</td>\n",
       "      <td>1.0</td>\n",
       "      <td>0.9</td>\n",
       "      <td>0.4</td>\n",
       "      <td>0.2</td>\n",
       "      <td>0.9</td>\n",
       "      <td>0.9</td>\n",
       "      <td>0.0</td>\n",
       "      <td>0.3</td>\n",
       "      <td>0.5</td>\n",
       "      <td>0.8</td>\n",
       "    </tr>\n",
       "    <tr>\n",
       "      <th>GSM3516782</th>\n",
       "      <td>0.4</td>\n",
       "      <td>1.0</td>\n",
       "      <td>0.1</td>\n",
       "      <td>0.8</td>\n",
       "      <td>0.8</td>\n",
       "      <td>0.9</td>\n",
       "      <td>0.1</td>\n",
       "      <td>0.2</td>\n",
       "      <td>0.9</td>\n",
       "      <td>0.1</td>\n",
       "      <td>...</td>\n",
       "      <td>1.0</td>\n",
       "      <td>0.9</td>\n",
       "      <td>0.4</td>\n",
       "      <td>0.2</td>\n",
       "      <td>1.0</td>\n",
       "      <td>1.0</td>\n",
       "      <td>0.0</td>\n",
       "      <td>0.2</td>\n",
       "      <td>0.6</td>\n",
       "      <td>0.9</td>\n",
       "    </tr>\n",
       "    <tr>\n",
       "      <th>GSM3516783</th>\n",
       "      <td>0.4</td>\n",
       "      <td>1.0</td>\n",
       "      <td>0.1</td>\n",
       "      <td>0.7</td>\n",
       "      <td>0.9</td>\n",
       "      <td>0.8</td>\n",
       "      <td>0.1</td>\n",
       "      <td>0.2</td>\n",
       "      <td>0.9</td>\n",
       "      <td>0.1</td>\n",
       "      <td>...</td>\n",
       "      <td>1.0</td>\n",
       "      <td>0.8</td>\n",
       "      <td>0.3</td>\n",
       "      <td>0.3</td>\n",
       "      <td>1.0</td>\n",
       "      <td>1.0</td>\n",
       "      <td>0.0</td>\n",
       "      <td>0.1</td>\n",
       "      <td>0.6</td>\n",
       "      <td>0.9</td>\n",
       "    </tr>\n",
       "    <tr>\n",
       "      <th>GSM3516784</th>\n",
       "      <td>0.4</td>\n",
       "      <td>0.9</td>\n",
       "      <td>0.1</td>\n",
       "      <td>0.8</td>\n",
       "      <td>0.9</td>\n",
       "      <td>0.9</td>\n",
       "      <td>0.2</td>\n",
       "      <td>0.3</td>\n",
       "      <td>0.9</td>\n",
       "      <td>0.1</td>\n",
       "      <td>...</td>\n",
       "      <td>1.0</td>\n",
       "      <td>0.8</td>\n",
       "      <td>0.3</td>\n",
       "      <td>0.3</td>\n",
       "      <td>0.9</td>\n",
       "      <td>1.0</td>\n",
       "      <td>0.0</td>\n",
       "      <td>0.2</td>\n",
       "      <td>0.4</td>\n",
       "      <td>0.9</td>\n",
       "    </tr>\n",
       "  </tbody>\n",
       "</table>\n",
       "<p>5 rows × 351989 columns</p>\n",
       "</div>"
      ],
      "text/plain": [
       "            cg00000029  cg00000109  cg00000165  cg00000236  cg00000289  \\\n",
       "GSM3516780         0.4         0.9         0.2         0.8         0.8   \n",
       "GSM3516781         0.4         1.0         0.2         0.8         0.7   \n",
       "GSM3516782         0.4         1.0         0.1         0.8         0.8   \n",
       "GSM3516783         0.4         1.0         0.1         0.7         0.9   \n",
       "GSM3516784         0.4         0.9         0.1         0.8         0.9   \n",
       "\n",
       "            cg00000292  cg00000321  cg00000363  cg00000658  cg00000714  ...  \\\n",
       "GSM3516780         0.9         0.2         0.3         0.9         0.1  ...   \n",
       "GSM3516781         0.9         0.2         0.3         0.9         0.1  ...   \n",
       "GSM3516782         0.9         0.1         0.2         0.9         0.1  ...   \n",
       "GSM3516783         0.8         0.1         0.2         0.9         0.1  ...   \n",
       "GSM3516784         0.9         0.2         0.3         0.9         0.1  ...   \n",
       "\n",
       "            cg27665715  cg27665754  cg27665767  cg27665769  cg27665829  \\\n",
       "GSM3516780         1.0         0.8         0.4         0.2         0.9   \n",
       "GSM3516781         1.0         0.9         0.4         0.2         0.9   \n",
       "GSM3516782         1.0         0.9         0.4         0.2         1.0   \n",
       "GSM3516783         1.0         0.8         0.3         0.3         1.0   \n",
       "GSM3516784         1.0         0.8         0.3         0.3         0.9   \n",
       "\n",
       "            cg27665860  cg27665925  cg27665985  cg27666046  cg27666123  \n",
       "GSM3516780         1.0         0.0         0.2         0.6         0.9  \n",
       "GSM3516781         0.9         0.0         0.3         0.5         0.8  \n",
       "GSM3516782         1.0         0.0         0.2         0.6         0.9  \n",
       "GSM3516783         1.0         0.0         0.1         0.6         0.9  \n",
       "GSM3516784         1.0         0.0         0.2         0.4         0.9  \n",
       "\n",
       "[5 rows x 351989 columns]"
      ]
     },
     "execution_count": 18,
     "metadata": {},
     "output_type": "execute_result"
    }
   ],
   "source": [
    "cll.head()"
   ]
  },
  {
   "cell_type": "code",
   "execution_count": 19,
   "metadata": {
    "ExecuteTime": {
     "end_time": "2020-06-29T20:44:50.153316Z",
     "start_time": "2020-06-29T20:44:50.139820Z"
    }
   },
   "outputs": [
    {
     "data": {
      "text/plain": [
       "Sample_name\n",
       "GSM4056740    D\n",
       "GSM4056718    D\n",
       "GSM4056710    D\n",
       "GSM4056713    D\n",
       "GSM4056732    D\n",
       "Name: healthy_disease, dtype: object"
      ]
     },
     "execution_count": 19,
     "metadata": {},
     "output_type": "execute_result"
    }
   ],
   "source": [
    "table[\"healthy_disease\"].head()"
   ]
  },
  {
   "cell_type": "code",
   "execution_count": 17,
   "metadata": {
    "ExecuteTime": {
     "end_time": "2020-06-29T20:41:36.699303Z",
     "start_time": "2020-06-29T20:41:36.190880Z"
    }
   },
   "outputs": [
    {
     "data": {
      "text/html": [
       "<div>\n",
       "<style scoped>\n",
       "    .dataframe tbody tr th:only-of-type {\n",
       "        vertical-align: middle;\n",
       "    }\n",
       "\n",
       "    .dataframe tbody tr th {\n",
       "        vertical-align: top;\n",
       "    }\n",
       "\n",
       "    .dataframe thead th {\n",
       "        text-align: right;\n",
       "    }\n",
       "</style>\n",
       "<table border=\"1\" class=\"dataframe\">\n",
       "  <thead>\n",
       "    <tr style=\"text-align: right;\">\n",
       "      <th></th>\n",
       "      <th>cg00000029</th>\n",
       "      <th>cg00000109</th>\n",
       "      <th>cg00000165</th>\n",
       "      <th>cg00000236</th>\n",
       "      <th>cg00000289</th>\n",
       "      <th>cg00000292</th>\n",
       "      <th>cg00000321</th>\n",
       "      <th>cg00000363</th>\n",
       "      <th>cg00000658</th>\n",
       "      <th>cg00000714</th>\n",
       "      <th>...</th>\n",
       "      <th>cg27665754</th>\n",
       "      <th>cg27665767</th>\n",
       "      <th>cg27665769</th>\n",
       "      <th>cg27665829</th>\n",
       "      <th>cg27665860</th>\n",
       "      <th>cg27665925</th>\n",
       "      <th>cg27665985</th>\n",
       "      <th>cg27666046</th>\n",
       "      <th>cg27666123</th>\n",
       "      <th>healthy_disease</th>\n",
       "    </tr>\n",
       "  </thead>\n",
       "  <tbody>\n",
       "    <tr>\n",
       "      <th>GSM3516780</th>\n",
       "      <td>0.4</td>\n",
       "      <td>0.9</td>\n",
       "      <td>0.2</td>\n",
       "      <td>0.8</td>\n",
       "      <td>0.8</td>\n",
       "      <td>0.9</td>\n",
       "      <td>0.2</td>\n",
       "      <td>0.3</td>\n",
       "      <td>0.9</td>\n",
       "      <td>0.1</td>\n",
       "      <td>...</td>\n",
       "      <td>0.8</td>\n",
       "      <td>0.4</td>\n",
       "      <td>0.2</td>\n",
       "      <td>0.9</td>\n",
       "      <td>1.0</td>\n",
       "      <td>0.0</td>\n",
       "      <td>0.2</td>\n",
       "      <td>0.6</td>\n",
       "      <td>0.9</td>\n",
       "      <td>H</td>\n",
       "    </tr>\n",
       "    <tr>\n",
       "      <th>GSM3516781</th>\n",
       "      <td>0.4</td>\n",
       "      <td>1.0</td>\n",
       "      <td>0.2</td>\n",
       "      <td>0.8</td>\n",
       "      <td>0.7</td>\n",
       "      <td>0.9</td>\n",
       "      <td>0.2</td>\n",
       "      <td>0.3</td>\n",
       "      <td>0.9</td>\n",
       "      <td>0.1</td>\n",
       "      <td>...</td>\n",
       "      <td>0.9</td>\n",
       "      <td>0.4</td>\n",
       "      <td>0.2</td>\n",
       "      <td>0.9</td>\n",
       "      <td>0.9</td>\n",
       "      <td>0.0</td>\n",
       "      <td>0.3</td>\n",
       "      <td>0.5</td>\n",
       "      <td>0.8</td>\n",
       "      <td>H</td>\n",
       "    </tr>\n",
       "    <tr>\n",
       "      <th>GSM3516782</th>\n",
       "      <td>0.4</td>\n",
       "      <td>1.0</td>\n",
       "      <td>0.1</td>\n",
       "      <td>0.8</td>\n",
       "      <td>0.8</td>\n",
       "      <td>0.9</td>\n",
       "      <td>0.1</td>\n",
       "      <td>0.2</td>\n",
       "      <td>0.9</td>\n",
       "      <td>0.1</td>\n",
       "      <td>...</td>\n",
       "      <td>0.9</td>\n",
       "      <td>0.4</td>\n",
       "      <td>0.2</td>\n",
       "      <td>1.0</td>\n",
       "      <td>1.0</td>\n",
       "      <td>0.0</td>\n",
       "      <td>0.2</td>\n",
       "      <td>0.6</td>\n",
       "      <td>0.9</td>\n",
       "      <td>H</td>\n",
       "    </tr>\n",
       "    <tr>\n",
       "      <th>GSM3516783</th>\n",
       "      <td>0.4</td>\n",
       "      <td>1.0</td>\n",
       "      <td>0.1</td>\n",
       "      <td>0.7</td>\n",
       "      <td>0.9</td>\n",
       "      <td>0.8</td>\n",
       "      <td>0.1</td>\n",
       "      <td>0.2</td>\n",
       "      <td>0.9</td>\n",
       "      <td>0.1</td>\n",
       "      <td>...</td>\n",
       "      <td>0.8</td>\n",
       "      <td>0.3</td>\n",
       "      <td>0.3</td>\n",
       "      <td>1.0</td>\n",
       "      <td>1.0</td>\n",
       "      <td>0.0</td>\n",
       "      <td>0.1</td>\n",
       "      <td>0.6</td>\n",
       "      <td>0.9</td>\n",
       "      <td>H</td>\n",
       "    </tr>\n",
       "    <tr>\n",
       "      <th>GSM3516784</th>\n",
       "      <td>0.4</td>\n",
       "      <td>0.9</td>\n",
       "      <td>0.1</td>\n",
       "      <td>0.8</td>\n",
       "      <td>0.9</td>\n",
       "      <td>0.9</td>\n",
       "      <td>0.2</td>\n",
       "      <td>0.3</td>\n",
       "      <td>0.9</td>\n",
       "      <td>0.1</td>\n",
       "      <td>...</td>\n",
       "      <td>0.8</td>\n",
       "      <td>0.3</td>\n",
       "      <td>0.3</td>\n",
       "      <td>0.9</td>\n",
       "      <td>1.0</td>\n",
       "      <td>0.0</td>\n",
       "      <td>0.2</td>\n",
       "      <td>0.4</td>\n",
       "      <td>0.9</td>\n",
       "      <td>H</td>\n",
       "    </tr>\n",
       "  </tbody>\n",
       "</table>\n",
       "<p>5 rows × 351990 columns</p>\n",
       "</div>"
      ],
      "text/plain": [
       "            cg00000029  cg00000109  cg00000165  cg00000236  cg00000289  \\\n",
       "GSM3516780         0.4         0.9         0.2         0.8         0.8   \n",
       "GSM3516781         0.4         1.0         0.2         0.8         0.7   \n",
       "GSM3516782         0.4         1.0         0.1         0.8         0.8   \n",
       "GSM3516783         0.4         1.0         0.1         0.7         0.9   \n",
       "GSM3516784         0.4         0.9         0.1         0.8         0.9   \n",
       "\n",
       "            cg00000292  cg00000321  cg00000363  cg00000658  cg00000714  ...  \\\n",
       "GSM3516780         0.9         0.2         0.3         0.9         0.1  ...   \n",
       "GSM3516781         0.9         0.2         0.3         0.9         0.1  ...   \n",
       "GSM3516782         0.9         0.1         0.2         0.9         0.1  ...   \n",
       "GSM3516783         0.8         0.1         0.2         0.9         0.1  ...   \n",
       "GSM3516784         0.9         0.2         0.3         0.9         0.1  ...   \n",
       "\n",
       "            cg27665754  cg27665767  cg27665769  cg27665829  cg27665860  \\\n",
       "GSM3516780         0.8         0.4         0.2         0.9         1.0   \n",
       "GSM3516781         0.9         0.4         0.2         0.9         0.9   \n",
       "GSM3516782         0.9         0.4         0.2         1.0         1.0   \n",
       "GSM3516783         0.8         0.3         0.3         1.0         1.0   \n",
       "GSM3516784         0.8         0.3         0.3         0.9         1.0   \n",
       "\n",
       "            cg27665925  cg27665985  cg27666046  cg27666123  healthy_disease  \n",
       "GSM3516780         0.0         0.2         0.6         0.9                H  \n",
       "GSM3516781         0.0         0.3         0.5         0.8                H  \n",
       "GSM3516782         0.0         0.2         0.6         0.9                H  \n",
       "GSM3516783         0.0         0.1         0.6         0.9                H  \n",
       "GSM3516784         0.0         0.2         0.4         0.9                H  \n",
       "\n",
       "[5 rows x 351990 columns]"
      ]
     },
     "execution_count": 17,
     "metadata": {},
     "output_type": "execute_result"
    }
   ],
   "source": [
    "healthy_disease_data = pd.concat((cll, table[\"healthy_disease\"]), axis=1, sort=False)\n",
    "healthy_disease_data.head()"
   ]
  },
  {
   "cell_type": "code",
   "execution_count": 20,
   "metadata": {
    "ExecuteTime": {
     "end_time": "2020-06-29T20:54:39.068972Z",
     "start_time": "2020-06-29T20:54:38.891913Z"
    }
   },
   "outputs": [
    {
     "data": {
      "text/plain": [
       "False"
      ]
     },
     "execution_count": 20,
     "metadata": {},
     "output_type": "execute_result"
    }
   ],
   "source": [
    "healthy_disease_data.isna().sum().any()"
   ]
  },
  {
   "cell_type": "code",
   "execution_count": 21,
   "metadata": {
    "ExecuteTime": {
     "end_time": "2020-06-29T20:55:55.117504Z",
     "start_time": "2020-06-29T20:55:54.593758Z"
    }
   },
   "outputs": [],
   "source": [
    "healthy_disease_data.rename({\"healthy_disease\": \"Trait\"}, axis=1, inplace=True)"
   ]
  },
  {
   "cell_type": "code",
   "execution_count": 22,
   "metadata": {
    "ExecuteTime": {
     "end_time": "2020-06-29T20:57:27.203944Z",
     "start_time": "2020-06-29T20:57:27.172912Z"
    }
   },
   "outputs": [
    {
     "data": {
      "text/html": [
       "<div>\n",
       "<style scoped>\n",
       "    .dataframe tbody tr th:only-of-type {\n",
       "        vertical-align: middle;\n",
       "    }\n",
       "\n",
       "    .dataframe tbody tr th {\n",
       "        vertical-align: top;\n",
       "    }\n",
       "\n",
       "    .dataframe thead th {\n",
       "        text-align: right;\n",
       "    }\n",
       "</style>\n",
       "<table border=\"1\" class=\"dataframe\">\n",
       "  <thead>\n",
       "    <tr style=\"text-align: right;\">\n",
       "      <th></th>\n",
       "      <th>cg00000029</th>\n",
       "      <th>cg00000109</th>\n",
       "      <th>cg00000165</th>\n",
       "      <th>cg00000236</th>\n",
       "      <th>cg00000289</th>\n",
       "      <th>cg00000292</th>\n",
       "      <th>cg00000321</th>\n",
       "      <th>cg00000363</th>\n",
       "      <th>cg00000658</th>\n",
       "      <th>cg00000714</th>\n",
       "      <th>...</th>\n",
       "      <th>cg27665754</th>\n",
       "      <th>cg27665767</th>\n",
       "      <th>cg27665769</th>\n",
       "      <th>cg27665829</th>\n",
       "      <th>cg27665860</th>\n",
       "      <th>cg27665925</th>\n",
       "      <th>cg27665985</th>\n",
       "      <th>cg27666046</th>\n",
       "      <th>cg27666123</th>\n",
       "      <th>Trait</th>\n",
       "    </tr>\n",
       "  </thead>\n",
       "  <tbody>\n",
       "    <tr>\n",
       "      <th>GSM3516780</th>\n",
       "      <td>0.4</td>\n",
       "      <td>0.9</td>\n",
       "      <td>0.2</td>\n",
       "      <td>0.8</td>\n",
       "      <td>0.8</td>\n",
       "      <td>0.9</td>\n",
       "      <td>0.2</td>\n",
       "      <td>0.3</td>\n",
       "      <td>0.9</td>\n",
       "      <td>0.1</td>\n",
       "      <td>...</td>\n",
       "      <td>0.8</td>\n",
       "      <td>0.4</td>\n",
       "      <td>0.2</td>\n",
       "      <td>0.9</td>\n",
       "      <td>1.0</td>\n",
       "      <td>0.0</td>\n",
       "      <td>0.2</td>\n",
       "      <td>0.6</td>\n",
       "      <td>0.9</td>\n",
       "      <td>H</td>\n",
       "    </tr>\n",
       "    <tr>\n",
       "      <th>GSM3516781</th>\n",
       "      <td>0.4</td>\n",
       "      <td>1.0</td>\n",
       "      <td>0.2</td>\n",
       "      <td>0.8</td>\n",
       "      <td>0.7</td>\n",
       "      <td>0.9</td>\n",
       "      <td>0.2</td>\n",
       "      <td>0.3</td>\n",
       "      <td>0.9</td>\n",
       "      <td>0.1</td>\n",
       "      <td>...</td>\n",
       "      <td>0.9</td>\n",
       "      <td>0.4</td>\n",
       "      <td>0.2</td>\n",
       "      <td>0.9</td>\n",
       "      <td>0.9</td>\n",
       "      <td>0.0</td>\n",
       "      <td>0.3</td>\n",
       "      <td>0.5</td>\n",
       "      <td>0.8</td>\n",
       "      <td>H</td>\n",
       "    </tr>\n",
       "    <tr>\n",
       "      <th>GSM3516782</th>\n",
       "      <td>0.4</td>\n",
       "      <td>1.0</td>\n",
       "      <td>0.1</td>\n",
       "      <td>0.8</td>\n",
       "      <td>0.8</td>\n",
       "      <td>0.9</td>\n",
       "      <td>0.1</td>\n",
       "      <td>0.2</td>\n",
       "      <td>0.9</td>\n",
       "      <td>0.1</td>\n",
       "      <td>...</td>\n",
       "      <td>0.9</td>\n",
       "      <td>0.4</td>\n",
       "      <td>0.2</td>\n",
       "      <td>1.0</td>\n",
       "      <td>1.0</td>\n",
       "      <td>0.0</td>\n",
       "      <td>0.2</td>\n",
       "      <td>0.6</td>\n",
       "      <td>0.9</td>\n",
       "      <td>H</td>\n",
       "    </tr>\n",
       "    <tr>\n",
       "      <th>GSM3516783</th>\n",
       "      <td>0.4</td>\n",
       "      <td>1.0</td>\n",
       "      <td>0.1</td>\n",
       "      <td>0.7</td>\n",
       "      <td>0.9</td>\n",
       "      <td>0.8</td>\n",
       "      <td>0.1</td>\n",
       "      <td>0.2</td>\n",
       "      <td>0.9</td>\n",
       "      <td>0.1</td>\n",
       "      <td>...</td>\n",
       "      <td>0.8</td>\n",
       "      <td>0.3</td>\n",
       "      <td>0.3</td>\n",
       "      <td>1.0</td>\n",
       "      <td>1.0</td>\n",
       "      <td>0.0</td>\n",
       "      <td>0.1</td>\n",
       "      <td>0.6</td>\n",
       "      <td>0.9</td>\n",
       "      <td>H</td>\n",
       "    </tr>\n",
       "    <tr>\n",
       "      <th>GSM3516784</th>\n",
       "      <td>0.4</td>\n",
       "      <td>0.9</td>\n",
       "      <td>0.1</td>\n",
       "      <td>0.8</td>\n",
       "      <td>0.9</td>\n",
       "      <td>0.9</td>\n",
       "      <td>0.2</td>\n",
       "      <td>0.3</td>\n",
       "      <td>0.9</td>\n",
       "      <td>0.1</td>\n",
       "      <td>...</td>\n",
       "      <td>0.8</td>\n",
       "      <td>0.3</td>\n",
       "      <td>0.3</td>\n",
       "      <td>0.9</td>\n",
       "      <td>1.0</td>\n",
       "      <td>0.0</td>\n",
       "      <td>0.2</td>\n",
       "      <td>0.4</td>\n",
       "      <td>0.9</td>\n",
       "      <td>H</td>\n",
       "    </tr>\n",
       "  </tbody>\n",
       "</table>\n",
       "<p>5 rows × 351990 columns</p>\n",
       "</div>"
      ],
      "text/plain": [
       "            cg00000029  cg00000109  cg00000165  cg00000236  cg00000289  \\\n",
       "GSM3516780         0.4         0.9         0.2         0.8         0.8   \n",
       "GSM3516781         0.4         1.0         0.2         0.8         0.7   \n",
       "GSM3516782         0.4         1.0         0.1         0.8         0.8   \n",
       "GSM3516783         0.4         1.0         0.1         0.7         0.9   \n",
       "GSM3516784         0.4         0.9         0.1         0.8         0.9   \n",
       "\n",
       "            cg00000292  cg00000321  cg00000363  cg00000658  cg00000714  ...  \\\n",
       "GSM3516780         0.9         0.2         0.3         0.9         0.1  ...   \n",
       "GSM3516781         0.9         0.2         0.3         0.9         0.1  ...   \n",
       "GSM3516782         0.9         0.1         0.2         0.9         0.1  ...   \n",
       "GSM3516783         0.8         0.1         0.2         0.9         0.1  ...   \n",
       "GSM3516784         0.9         0.2         0.3         0.9         0.1  ...   \n",
       "\n",
       "            cg27665754  cg27665767  cg27665769  cg27665829  cg27665860  \\\n",
       "GSM3516780         0.8         0.4         0.2         0.9         1.0   \n",
       "GSM3516781         0.9         0.4         0.2         0.9         0.9   \n",
       "GSM3516782         0.9         0.4         0.2         1.0         1.0   \n",
       "GSM3516783         0.8         0.3         0.3         1.0         1.0   \n",
       "GSM3516784         0.8         0.3         0.3         0.9         1.0   \n",
       "\n",
       "            cg27665925  cg27665985  cg27666046  cg27666123  Trait  \n",
       "GSM3516780         0.0         0.2         0.6         0.9      H  \n",
       "GSM3516781         0.0         0.3         0.5         0.8      H  \n",
       "GSM3516782         0.0         0.2         0.6         0.9      H  \n",
       "GSM3516783         0.0         0.1         0.6         0.9      H  \n",
       "GSM3516784         0.0         0.2         0.4         0.9      H  \n",
       "\n",
       "[5 rows x 351990 columns]"
      ]
     },
     "execution_count": 22,
     "metadata": {},
     "output_type": "execute_result"
    }
   ],
   "source": [
    "healthy_disease_data.head()"
   ]
  },
  {
   "cell_type": "code",
   "execution_count": 23,
   "metadata": {
    "ExecuteTime": {
     "end_time": "2020-06-29T21:00:05.311074Z",
     "start_time": "2020-06-29T20:58:44.620779Z"
    }
   },
   "outputs": [],
   "source": [
    "healthy_disease_data.to_csv(\"data/interim/healthy_disease_data_prepared.csv\") "
   ]
  }
 ],
 "metadata": {
  "kernelspec": {
   "display_name": "Python 3",
   "language": "python",
   "name": "python3"
  },
  "language_info": {
   "codemirror_mode": {
    "name": "ipython",
    "version": 3
   },
   "file_extension": ".py",
   "mimetype": "text/x-python",
   "name": "python",
   "nbconvert_exporter": "python",
   "pygments_lexer": "ipython3",
   "version": "3.7.6"
  },
  "toc": {
   "base_numbering": 1,
   "nav_menu": {},
   "number_sections": true,
   "sideBar": true,
   "skip_h1_title": false,
   "title_cell": "Table of Contents",
   "title_sidebar": "Contents",
   "toc_cell": false,
   "toc_position": {},
   "toc_section_display": true,
   "toc_window_display": false
  },
  "varInspector": {
   "cols": {
    "lenName": 16,
    "lenType": 16,
    "lenVar": 40
   },
   "kernels_config": {
    "python": {
     "delete_cmd_postfix": "",
     "delete_cmd_prefix": "del ",
     "library": "var_list.py",
     "varRefreshCmd": "print(var_dic_list())"
    },
    "r": {
     "delete_cmd_postfix": ") ",
     "delete_cmd_prefix": "rm(",
     "library": "var_list.r",
     "varRefreshCmd": "cat(var_dic_list()) "
    }
   },
   "types_to_exclude": [
    "module",
    "function",
    "builtin_function_or_method",
    "instance",
    "_Feature"
   ],
   "window_display": false
  }
 },
 "nbformat": 4,
 "nbformat_minor": 4
}
